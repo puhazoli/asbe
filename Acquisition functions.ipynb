{
 "cells": [
  {
   "cell_type": "code",
   "execution_count": null,
   "metadata": {},
   "outputs": [],
   "source": [
    "from asbe.base import *\n",
    "from asbe.models import *\n",
    "from asbe.estimators import *\n",
    "from econml.orf import DMLOrthoForest\n",
    "from econml.dml import CausalForestDML\n",
    "from causalml.inference.nn import CEVAE\n",
    "from openbt.openbt import OPENBT\n",
    "import pandas as pd\n",
    "import numpy as np\n",
    "from sklearn.ensemble import RandomForestRegressor\n",
    "from sklearn.linear_model import LinearRegression, LogisticRegression\n",
    "from sklearn.model_selection import train_test_split\n",
    "from copy import deepcopy\n",
    "import econml\n",
    "from causalml.dataset import synthetic_data\n",
    "from sklearn.gaussian_process import GaussianProcessRegressor\n",
    "from sklearn.gaussian_process.kernels import ConstantKernel, RBF"
   ]
  },
  {
   "cell_type": "code",
   "execution_count": null,
   "metadata": {},
   "outputs": [],
   "source": [
    "import pymc3 as pm\n",
    "from pymc3 import glm, Model, sample\n",
    "import patsy"
   ]
  },
  {
   "cell_type": "code",
   "execution_count": null,
   "metadata": {},
   "outputs": [
    {
     "name": "stderr",
     "output_type": "stream",
     "text": [
      "Auto-assigning NUTS sampler...\n",
      "Initializing NUTS using jitter+adapt_diag...\n",
      "Multiprocess sampling (2 chains in 2 jobs)\n",
      "NUTS: [sd, x4, x3, x2, x1, x0, Intercept]\n"
     ]
    },
    {
     "data": {
      "text/html": [
       "\n",
       "    <div>\n",
       "        <style>\n",
       "            /* Turns off some styling */\n",
       "            progress {\n",
       "                /* gets rid of default border in Firefox and Opera. */\n",
       "                border: none;\n",
       "                /* Needs to be in here for Safari polyfill so background images work as expected. */\n",
       "                background-size: auto;\n",
       "            }\n",
       "            .progress-bar-interrupted, .progress-bar-interrupted::-webkit-progress-bar {\n",
       "                background: #F44336;\n",
       "            }\n",
       "        </style>\n",
       "      <progress value='8000' class='' max='8000' style='width:300px; height:20px; vertical-align: middle;'></progress>\n",
       "      100.00% [8000/8000 00:14<00:00 Sampling 2 chains, 0 divergences]\n",
       "    </div>\n",
       "    "
      ],
      "text/plain": [
       "<IPython.core.display.HTML object>"
      ]
     },
     "metadata": {},
     "output_type": "display_data"
    },
    {
     "name": "stderr",
     "output_type": "stream",
     "text": [
      "Sampling 2 chains for 1_000 tune and 3_000 draw iterations (2_000 + 6_000 draws total) took 24 seconds.\n"
     ]
    }
   ],
   "source": [
    "with pm.Model() as model:\n",
    "    # https://juanitorduz.github.io/glm_pymc3/\n",
    "    family = pm.glm.families.Normal()\n",
    "    data = pm.Data(\"data\", ds[\"X_training\"])\n",
    "    labels = [\"x\"+str(i) for i in range(ds[\"X_training\"].shape[1])]\n",
    "    glm.GLM(y=ds[\"y_training\"], x = data, family=family, labels=labels)\n",
    "    trace = sample(3000, cores=2)  # draw 3000 posterior samples using NUTS sampling"
   ]
  },
  {
   "cell_type": "code",
   "execution_count": null,
   "metadata": {},
   "outputs": [
    {
     "data": {
      "text/html": [
       "\n",
       "    <div>\n",
       "        <style>\n",
       "            /* Turns off some styling */\n",
       "            progress {\n",
       "                /* gets rid of default border in Firefox and Opera. */\n",
       "                border: none;\n",
       "                /* Needs to be in here for Safari polyfill so background images work as expected. */\n",
       "                background-size: auto;\n",
       "            }\n",
       "            .progress-bar-interrupted, .progress-bar-interrupted::-webkit-progress-bar {\n",
       "                background: #F44336;\n",
       "            }\n",
       "        </style>\n",
       "      <progress value='6000' class='' max='6000' style='width:300px; height:20px; vertical-align: middle;'></progress>\n",
       "      100.00% [6000/6000 00:16<00:00]\n",
       "    </div>\n",
       "    "
      ],
      "text/plain": [
       "<IPython.core.display.HTML object>"
      ]
     },
     "metadata": {},
     "output_type": "display_data"
    }
   ],
   "source": [
    "pm.set_data({\"data\": ds[\"X_test\"]}, model=model)\n",
    "ppc_test = pm.sample_posterior_predictive(trace, model=model)"
   ]
  },
  {
   "cell_type": "code",
   "execution_count": null,
   "metadata": {},
   "outputs": [
    {
     "data": {
      "image/png": "[encoded data removed]",
      "text/latex": [
       "$\\displaystyle \\left( 900\\right)$"
      ],
      "text/plain": [
       "(900,)"
      ]
     },
     "execution_count": null,
     "metadata": {},
     "output_type": "execute_result"
    }
   ],
   "source": [
    "ppc_test[\"y\"].T, axis=1.shape"
   ]
  },
  {
   "cell_type": "code",
   "execution_count": null,
   "metadata": {},
   "outputs": [],
   "source": [
    "np.random.seed(1005)\n",
    "y, X, t, ite, _, e = synthetic_data(mode=1, n=1000, p=5, sigma=1.0)"
   ]
  },
  {
   "cell_type": "code",
   "execution_count": null,
   "metadata": {},
   "outputs": [],
   "source": [
    "y1 = np.where(t == 1, y, y + ite)\n",
    "y0 = np.where(t == 0, y, y - ite)\n",
    "X_train, X_test, t_train, t_test, y_train, y_test, ite_train, ite_test, y1_train, y1_test, y0_train, y0_test = train_test_split(\n",
    "    X, t, y, ite, y1, y0,  test_size=0.9, random_state=1005)\n",
    "ds = {\"X_training\": X_train,\n",
    "     \"y_training\": y_train,\n",
    "     \"t_training\": t_train,\n",
    "     \"X_pool\": deepcopy(X_test), \n",
    "     \"y_pool\": deepcopy(y_test),\n",
    "     \"t_pool\": deepcopy(t_test),\n",
    "     \"y1_pool\": y1_test,\n",
    "     \"y0_pool\":y0_test,\n",
    "     \"X_test\": X_test,\n",
    "     \"y_test\": y_test,\n",
    "      \"t_test\": t_test,\n",
    "      \"ite_test\": ite_test\n",
    "     }"
   ]
  },
  {
   "cell_type": "code",
   "execution_count": null,
   "metadata": {},
   "outputs": [],
   "source": [
    "def test_acq(estimator, acq):\n",
    "    asl = BaseActiveLearner(estimator = BaseITEEstimator(model = estimator,\n",
    "                                         two_model=False,ps_model=None),\n",
    "                        acquisition_function=acq,\n",
    "                        assignment_function=MajorityAssignmentFunction(),\n",
    "                        stopping_function = None,\n",
    "                        dataset=ds)\n",
    "    asl.fit()\n",
    "    X_new, query_idx = asl.query(no_query=10)\n",
    "    print(query_idx)\n",
    "    asl.teach(query_idx)\n",
    "    preds = asl.predict(asl.dataset[\"X_test\"])\n",
    "    print(asl.score())\n",
    "    return True\n",
    "\n",
    "def test_acq_ob(acq):\n",
    "    asl = BaseActiveLearner(estimator = OPENBTITEEstimator(model = OPENBT(model=\"bart\",ntrees=200),\n",
    "                                         two_model=False,ps_model=None),\n",
    "                        acquisition_function=acq,\n",
    "                        assignment_function=MajorityAssignmentFunction(),\n",
    "                        stopping_function = None,\n",
    "                        dataset=ds)\n",
    "    asl.fit()\n",
    "    X_new, query_idx = asl.query(no_query=10)\n",
    "    print(query_idx)\n",
    "    asl.teach(query_idx)\n",
    "    preds = asl.predict(asl.dataset[\"X_test\"])\n",
    "    print(asl.score())\n",
    "    return True\n",
    "\n",
    "def test_acq_gp(acq):\n",
    "    asl = BaseActiveLearner(estimator = GPEstimator(model = GaussianProcessRegressor(ConstantKernel(1.0) * RBF()),\n",
    "                                         two_model=False,\n",
    "                                                    ps_model=None),\n",
    "                        acquisition_function=acq,\n",
    "                        assignment_function=MajorityAssignmentFunction(),\n",
    "                        stopping_function = None,\n",
    "                        dataset=ds)\n",
    "    asl.fit()\n",
    "    X_new, query_idx = asl.query(no_query=20)\n",
    "    print(query_idx)\n",
    "    asl.teach(query_idx)\n",
    "    print(asl.dataset[\"X_training\"].shape)\n",
    "    preds = asl.predict(asl.dataset[\"X_test\"])\n",
    "    print(preds)\n",
    "    print(asl.score())\n",
    "    return True"
   ]
  },
  {
   "cell_type": "code",
   "execution_count": null,
   "metadata": {},
   "outputs": [
    {
     "name": "stdout",
     "output_type": "stream",
     "text": [
      "[624 272 519 511 540 152 627   0 324   3]\n",
      "0.8009953751914765\n"
     ]
    },
    {
     "data": {
      "text/plain": [
       "True"
      ]
     },
     "execution_count": null,
     "metadata": {},
     "output_type": "execute_result"
    }
   ],
   "source": [
    "test_acq(RandomForestRegressor(), RandomAcquisitionFunction())"
   ]
  },
  {
   "cell_type": "code",
   "execution_count": null,
   "metadata": {},
   "outputs": [],
   "source": [
    "# test_acq(RandomForestRegressor(), UncertaintyAcquisitionFunction())"
   ]
  },
  {
   "cell_type": "code",
   "execution_count": null,
   "metadata": {},
   "outputs": [
    {
     "name": "stdout",
     "output_type": "stream",
     "text": [
      "Overwriting k to agree with the model's default\n",
      "Overwriting overallnu to agree with the model's default\n",
      "Overwriting ntree to agree with the model's default\n",
      "Overwriting ntreeh to agree with the model's default\n",
      "Overwriting overallsd to agree with the model's default\n",
      "Writing config file and data\n",
      "/var/folders/44/gtm_t6x110jg6b13p4rbwkfh0000gn/T/openbtpy_rt9yaxdd\n",
      "3+ x variables\n",
      "Running model...\n",
      "[ 24 834 782 432 597 761 691 860 671 230]\n",
      "0.5682984748893779\n"
     ]
    },
    {
     "data": {
      "text/plain": [
       "True"
      ]
     },
     "execution_count": null,
     "metadata": {},
     "output_type": "execute_result"
    }
   ],
   "source": [
    "test_acq_ob(UncertaintyAcquisitionFunction())"
   ]
  },
  {
   "cell_type": "code",
   "execution_count": null,
   "metadata": {},
   "outputs": [
    {
     "name": "stdout",
     "output_type": "stream",
     "text": [
      "Overwriting k to agree with the model's default\n",
      "Overwriting overallnu to agree with the model's default\n",
      "Overwriting ntree to agree with the model's default\n",
      "Overwriting ntreeh to agree with the model's default\n",
      "Overwriting overallsd to agree with the model's default\n",
      "Writing config file and data\n",
      "/var/folders/44/gtm_t6x110jg6b13p4rbwkfh0000gn/T/openbtpy_20cu04y2\n",
      "3+ x variables\n",
      "Running model...\n",
      "[415 277 122 201  13 185 356 144  75 278]\n",
      "0.2804859827444472\n"
     ]
    },
    {
     "data": {
      "text/plain": [
       "True"
      ]
     },
     "execution_count": null,
     "metadata": {},
     "output_type": "execute_result"
    }
   ],
   "source": [
    "test_acq_ob(TypeSAcquistionFunction())"
   ]
  },
  {
   "cell_type": "code",
   "execution_count": null,
   "metadata": {},
   "outputs": [
    {
     "name": "stdout",
     "output_type": "stream",
     "text": [
      "Overwriting k to agree with the model's default\n",
      "Overwriting overallnu to agree with the model's default\n",
      "Overwriting ntree to agree with the model's default\n",
      "Overwriting ntreeh to agree with the model's default\n",
      "Overwriting overallsd to agree with the model's default\n",
      "Writing config file and data\n",
      "/var/folders/44/gtm_t6x110jg6b13p4rbwkfh0000gn/T/openbtpy_l5b308d9\n",
      "3+ x variables\n",
      "Running model...\n",
      "[220 360 164 157 381 364 362 192 161 340]\n",
      "0.2803380463534182\n"
     ]
    },
    {
     "data": {
      "text/plain": [
       "True"
      ]
     },
     "execution_count": null,
     "metadata": {},
     "output_type": "execute_result"
    }
   ],
   "source": [
    "test_acq_ob(EMCMAcquisitionFunction(no_query=10, B=10))"
   ]
  },
  {
   "cell_type": "code",
   "execution_count": null,
   "metadata": {},
   "outputs": [
    {
     "name": "stdout",
     "output_type": "stream",
     "text": [
      "[ 40 663 547 819  70 306 381  73 830 162 808  27 446 487 271 468 599 367\n",
      " 246 761]\n",
      "(120, 5)\n",
      "[[0. 0. 0. ... 0. 0. 0.]\n",
      " [0. 0. 0. ... 0. 0. 0.]\n",
      " [0. 0. 0. ... 0. 0. 0.]\n",
      " ...\n",
      " [0. 0. 0. ... 0. 0. 0.]\n",
      " [0. 0. 0. ... 0. 0. 0.]\n",
      " [0. 0. 0. ... 0. 0. 0.]]\n",
      "0.5337187351959323\n"
     ]
    },
    {
     "data": {
      "text/plain": [
       "True"
      ]
     },
     "execution_count": null,
     "metadata": {},
     "output_type": "execute_result"
    }
   ],
   "source": [
    "test_acq_gp(RandomAcquisitionFunction())"
   ]
  },
  {
   "cell_type": "code",
   "execution_count": null,
   "metadata": {},
   "outputs": [
    {
     "name": "stdout",
     "output_type": "stream",
     "text": [
      "[899 336 306 305 304 303 302 301 300 299 298 297 296 295 294 293 292 291\n",
      " 290 289]\n",
      "(120, 5)\n",
      "[[0. 0. 0. ... 0. 0. 0.]\n",
      " [0. 0. 0. ... 0. 0. 0.]\n",
      " [0. 0. 0. ... 0. 0. 0.]\n",
      " ...\n",
      " [0. 0. 0. ... 0. 0. 0.]\n",
      " [0. 0. 0. ... 0. 0. 0.]\n",
      " [0. 0. 0. ... 0. 0. 0.]]\n",
      "0.5337187351959323\n"
     ]
    },
    {
     "data": {
      "text/plain": [
       "True"
      ]
     },
     "execution_count": null,
     "metadata": {},
     "output_type": "execute_result"
    }
   ],
   "source": [
    "test_acq_gp(UncertaintyAcquisitionFunction())"
   ]
  },
  {
   "cell_type": "code",
   "execution_count": null,
   "metadata": {},
   "outputs": [
    {
     "name": "stdout",
     "output_type": "stream",
     "text": [
      "[899 336 306 305 304 303 302 301 300 299 298 297 296 295 294 293 292 291\n",
      " 290 289]\n",
      "(120, 5)\n",
      "[[0. 0. 0. ... 0. 0. 0.]\n",
      " [0. 0. 0. ... 0. 0. 0.]\n",
      " [0. 0. 0. ... 0. 0. 0.]\n",
      " ...\n",
      " [0. 0. 0. ... 0. 0. 0.]\n",
      " [0. 0. 0. ... 0. 0. 0.]\n",
      " [0. 0. 0. ... 0. 0. 0.]]\n",
      "0.5337187351959323\n"
     ]
    },
    {
     "data": {
      "text/plain": [
       "True"
      ]
     },
     "execution_count": null,
     "metadata": {},
     "output_type": "execute_result"
    }
   ],
   "source": [
    "test_acq_gp(TypeSAcquistionFunction())"
   ]
  },
  {
   "cell_type": "code",
   "execution_count": null,
   "metadata": {},
   "outputs": [
    {
     "name": "stdout",
     "output_type": "stream",
     "text": [
      "[ 74 899 282 307 306 305 304 303 302 301 300 299 298 297 296 295 294 293\n",
      " 292 291]\n",
      "(120, 5)\n",
      "[[ 0.05700141  0.1801203   0.11909015 ...  0.12306411  0.06735509\n",
      "   0.19608517]\n",
      " [ 4.21579622  4.56534956  4.38730066 ...  4.23056837  4.1342224\n",
      "   4.25585053]\n",
      " [-1.45203465 -1.35548585 -1.42326089 ... -1.40811163 -1.43223976\n",
      "  -1.44421973]\n",
      " ...\n",
      " [-2.8906508  -2.71975307 -2.75067577 ... -2.81802532 -2.75970871\n",
      "  -2.75915661]\n",
      " [ 5.36241851  5.67510024  5.57619882 ...  5.59758598  5.53029302\n",
      "   5.66760542]\n",
      " [ 2.00389031  1.99446016  2.07388858 ...  2.00301579  2.01332167\n",
      "   2.05755454]]\n",
      "3.670348490582053\n"
     ]
    },
    {
     "data": {
      "text/plain": [
       "True"
      ]
     },
     "execution_count": null,
     "metadata": {},
     "output_type": "execute_result"
    }
   ],
   "source": [
    "test_acq_gp(EMCMAcquisitionFunction())"
   ]
  },
  {
   "cell_type": "code",
   "execution_count": null,
   "metadata": {},
   "outputs": [],
   "source": []
  }
 ],
 "metadata": {
  "kernelspec": {
   "display_name": "Python 3",
   "language": "python",
   "name": "python3"
  }
 },
 "nbformat": 4,
 "nbformat_minor": 4
}
