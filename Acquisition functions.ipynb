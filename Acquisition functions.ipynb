{
 "cells": [
  {
   "cell_type": "markdown",
   "metadata": {},
   "source": [
    "# Simple usage of different acquisition functions"
   ]
  },
  {
   "cell_type": "code",
   "execution_count": null,
   "metadata": {},
   "outputs": [],
   "source": [
    "from asbe.base import *\n",
    "from asbe.models import *\n",
    "from asbe.estimators import *\n",
    "from econml.orf import DMLOrthoForest\n",
    "from econml.dml import CausalForestDML\n",
    "#from causalml.inference.nn import CEVAE\n",
    "#from openbt.openbt import OPENBT\n",
    "import pandas as pd\n",
    "import numpy as np\n",
    "from sklearn.ensemble import RandomForestRegressor\n",
    "from sklearn.linear_model import LinearRegression, LogisticRegression\n",
    "from sklearn.model_selection import train_test_split\n",
    "from copy import deepcopy\n",
    "import econml\n",
    "from causalml.dataset import synthetic_data\n",
    "from sklearn.gaussian_process import GaussianProcessRegressor\n",
    "from sklearn.gaussian_process.kernels import ConstantKernel, RBF"
   ]
  },
  {
   "cell_type": "code",
   "execution_count": null,
   "metadata": {},
   "outputs": [],
   "source": [
    "np.random.seed(1005)\n",
    "y, X, t, ite, _, e = synthetic_data(mode=1, n=1000, p=5, sigma=1.0)"
   ]
  },
  {
   "cell_type": "code",
   "execution_count": null,
   "metadata": {},
   "outputs": [],
   "source": [
    "y1 = np.where(t == 1, y, y + ite)\n",
    "y0 = np.where(t == 0, y, y - ite)\n",
    "X_train, X_test, t_train, t_test, y_train, y_test, ite_train, ite_test, y1_train, y1_test, y0_train, y0_test = train_test_split(\n",
    "    X, t, y, ite, y1, y0,  test_size=0.9, random_state=1005)\n",
    "ds = {\"X_training\": X_train,\n",
    "     \"y_training\": y_train,\n",
    "     \"t_training\": t_train,\n",
    "     \"X_pool\": deepcopy(X_test), \n",
    "     \"y_pool\": deepcopy(y_test),\n",
    "     \"t_pool\": deepcopy(t_test),\n",
    "     \"y1_pool\": y1_test,\n",
    "     \"y0_pool\":y0_test,\n",
    "     \"X_test\": X_test,\n",
    "     \"y_test\": y_test,\n",
    "      \"t_test\": t_test,\n",
    "      \"ite_test\": ite_test\n",
    "     }"
   ]
  },
  {
   "cell_type": "code",
   "execution_count": null,
   "metadata": {},
   "outputs": [],
   "source": [
    "def test_acq(estimator, acq):\n",
    "    asl = BaseActiveLearner(estimator = BaseITEEstimator(model = estimator,\n",
    "                                         two_model=False,ps_model=None),\n",
    "                        acquisition_function=acq,\n",
    "                        assignment_function=MajorityAssignmentFunction(),\n",
    "                        stopping_function = None,\n",
    "                        dataset=ds)\n",
    "    asl.fit()\n",
    "    X_new, query_idx = asl.query(no_query=10)\n",
    "    print(query_idx)\n",
    "    asl.teach(query_idx)\n",
    "    preds = asl.predict(asl.dataset[\"X_test\"])\n",
    "    print(asl.score())\n",
    "    return True\n",
    "\n",
    "# def test_acq_ob(acq):\n",
    "#     asl = BaseActiveLearner(estimator = OPENBTITEEstimator(model = OPENBT(\n",
    "#         model=\"bart\",ntrees=200),\n",
    "#                                          two_model=False,ps_model=None),\n",
    "#                         acquisition_function=acq,\n",
    "#                         assignment_function=MajorityAssignmentFunction(),\n",
    "#                         stopping_function = None,\n",
    "#                         dataset=ds)\n",
    "#     asl.fit()\n",
    "#     X_new, query_idx = asl.query(no_query=10)\n",
    "#     print(query_idx)\n",
    "#     asl.teach(query_idx)\n",
    "#     preds = asl.predict(asl.dataset[\"X_test\"])\n",
    "#     print(asl.score())\n",
    "#     return True\n",
    "\n",
    "def test_acq_gp(acq):\n",
    "    asl = BaseActiveLearner(estimator = GPEstimator(model = GaussianProcessRegressor(ConstantKernel()*RBF(np.ones(ds[\"X_training\"].shape[1],))),\n",
    "                                         two_model=True,\n",
    "                                                    ps_model=None),\n",
    "                        acquisition_function=acq,\n",
    "                        assignment_function=MajorityAssignmentFunction(),\n",
    "                        stopping_function = None,\n",
    "                        dataset=ds)\n",
    "    asl.fit()\n",
    "    X_new, query_idx = asl.query(no_query=20)\n",
    "    print(query_idx)\n",
    "    print(asl.score())\n",
    "    asl.teach(query_idx)\n",
    "    asl.fit()\n",
    "    #preds = asl.predict(asl.dataset[\"X_test\"])\n",
    "    print(asl.score())\n",
    "    return True"
   ]
  },
  {
   "cell_type": "code",
   "execution_count": null,
   "metadata": {},
   "outputs": [
    {
     "name": "stdout",
     "output_type": "stream",
     "text": [
      "[702 193 166 741  59 250  98  55 733 645]\n",
      "0.8529185036438194\n"
     ]
    },
    {
     "data": {
      "text/plain": [
       "True"
      ]
     },
     "execution_count": null,
     "metadata": {},
     "output_type": "execute_result"
    }
   ],
   "source": [
    "test_acq(RandomForestRegressor(), RandomAcquisitionFunction())"
   ]
  },
  {
   "cell_type": "code",
   "execution_count": null,
   "metadata": {},
   "outputs": [],
   "source": [
    "# test_acq(RandomForestRegressor(), UncertaintyAcquisitionFunction())"
   ]
  },
  {
   "cell_type": "code",
   "execution_count": null,
   "metadata": {},
   "outputs": [
    {
     "name": "stdout",
     "output_type": "stream",
     "text": [
      "Overwriting k to agree with the model's default\n",
      "Overwriting overallnu to agree with the model's default\n",
      "Overwriting ntree to agree with the model's default\n",
      "Overwriting ntreeh to agree with the model's default\n",
      "Overwriting overallsd to agree with the model's default\n",
      "Writing config file and data\n",
      "/var/folders/44/gtm_t6x110jg6b13p4rbwkfh0000gn/T/openbtpy_vhh3z6f8\n",
      "3+ x variables\n",
      "Running model...\n",
      "[ 24 597 834 510 860 710 671 432 795 791]\n",
      "0.5621710540328109\n"
     ]
    },
    {
     "data": {
      "text/plain": [
       "True"
      ]
     },
     "execution_count": null,
     "metadata": {},
     "output_type": "execute_result"
    }
   ],
   "source": [
    "#test_acq_ob(UncertaintyAcquisitionFunction())"
   ]
  },
  {
   "cell_type": "code",
   "execution_count": null,
   "metadata": {},
   "outputs": [
    {
     "name": "stdout",
     "output_type": "stream",
     "text": [
      "Overwriting k to agree with the model's default\n",
      "Overwriting overallnu to agree with the model's default\n",
      "Overwriting ntree to agree with the model's default\n",
      "Overwriting ntreeh to agree with the model's default\n",
      "Overwriting overallsd to agree with the model's default\n",
      "Writing config file and data\n",
      "/var/folders/44/gtm_t6x110jg6b13p4rbwkfh0000gn/T/openbtpy_abu0pjzg\n",
      "3+ x variables\n",
      "Running model...\n",
      "[ 62 301 817 861 450 741 353 878 157  13]\n",
      "0.5798006422653739\n"
     ]
    },
    {
     "data": {
      "text/plain": [
       "True"
      ]
     },
     "execution_count": null,
     "metadata": {},
     "output_type": "execute_result"
    }
   ],
   "source": [
    "#test_acq_ob(TypeSAcquistionFunction())"
   ]
  },
  {
   "cell_type": "code",
   "execution_count": null,
   "metadata": {},
   "outputs": [
    {
     "name": "stdout",
     "output_type": "stream",
     "text": [
      "Overwriting k to agree with the model's default\n",
      "Overwriting overallnu to agree with the model's default\n",
      "Overwriting ntree to agree with the model's default\n",
      "Overwriting ntreeh to agree with the model's default\n",
      "Overwriting overallsd to agree with the model's default\n",
      "Writing config file and data\n",
      "/var/folders/44/gtm_t6x110jg6b13p4rbwkfh0000gn/T/openbtpy_jhj8mkn7\n",
      "3+ x variables\n",
      "Running model...\n",
      "[782 834 100 821 145 545  62 164 168 671]\n",
      "0.5720390720113978\n"
     ]
    },
    {
     "data": {
      "text/plain": [
       "True"
      ]
     },
     "execution_count": null,
     "metadata": {},
     "output_type": "execute_result"
    }
   ],
   "source": [
    "#test_acq_ob(EMCMAcquisitionFunction(no_query=10, B=10))"
   ]
  },
  {
   "cell_type": "code",
   "execution_count": null,
   "metadata": {},
   "outputs": [
    {
     "name": "stdout",
     "output_type": "stream",
     "text": [
      "[304 297 703 649 724  81  45 249 807 432 258 458 556 363 846 736 284 121\n",
      " 535 756]\n",
      "(120, 5)\n",
      "[[ 1.17921141e+00 -9.77120587e-01  5.46791330e-01 ... -4.67885567e-01\n",
      "   2.10854854e-01  2.45374743e-02]\n",
      " [ 2.67492032e-01 -4.56857175e-01 -1.86445088e-01 ... -4.48442913e-01\n",
      "   8.39346601e-01 -1.31788984e+00]\n",
      " [ 6.54254394e-01  2.45691765e-01  9.56956316e-01 ...  1.91443599e+00\n",
      "   4.98526544e-01 -6.54651197e-01]\n",
      " ...\n",
      " [-1.03050086e+00  1.22630506e-01  4.93734689e-01 ... -3.37496729e-01\n",
      "  -7.66367306e-01  4.00539635e-01]\n",
      " [ 1.73428815e+00 -3.14675994e-01  8.71824414e-01 ...  5.47451731e-01\n",
      "  -4.18753576e-04  1.21294057e+00]\n",
      " [-2.70082400e-01  1.82355482e-01  7.00631387e-02 ...  1.10864941e-01\n",
      "   1.29988691e+00 -1.99717705e-01]]\n",
      "0.5337187351959323\n"
     ]
    },
    {
     "data": {
      "text/plain": [
       "True"
      ]
     },
     "execution_count": null,
     "metadata": {},
     "output_type": "execute_result"
    }
   ],
   "source": [
    "#test_acq_gp(RandomAcquisitionFunction())"
   ]
  },
  {
   "cell_type": "code",
   "execution_count": null,
   "metadata": {},
   "outputs": [
    {
     "name": "stdout",
     "output_type": "stream",
     "text": [
      "[687 421 116 185 205 482 486 440 635 243  76 476 869 612 506 108 530 611\n",
      " 268 368]\n",
      "0.5337187351959323\n",
      "0.5751091655772831\n"
     ]
    },
    {
     "data": {
      "text/plain": [
       "True"
      ]
     },
     "execution_count": null,
     "metadata": {},
     "output_type": "execute_result"
    }
   ],
   "source": [
    "test_acq_gp(UncertaintyAcquisitionFunction())"
   ]
  },
  {
   "cell_type": "code",
   "execution_count": null,
   "metadata": {},
   "outputs": [
    {
     "name": "stdout",
     "output_type": "stream",
     "text": [
      "[300 756 111  71 769 390 612 371 122 360 135 352 835 337 624 141 636 316\n",
      " 529 142]\n",
      "0.5337187351959323\n",
      "0.6183597398651168\n"
     ]
    },
    {
     "data": {
      "text/plain": [
       "True"
      ]
     },
     "execution_count": null,
     "metadata": {},
     "output_type": "execute_result"
    }
   ],
   "source": [
    "test_acq_gp(TypeSAcquistionFunction())"
   ]
  },
  {
   "cell_type": "code",
   "execution_count": null,
   "metadata": {},
   "outputs": [
    {
     "name": "stdout",
     "output_type": "stream",
     "text": [
      "[380 899 295 306 305 304 303 302 301 300 299 298 297 296 294 281 293 292\n",
      " 291 290]\n",
      "0.5337187351959323\n",
      "0.5672603979810199\n"
     ]
    },
    {
     "data": {
      "text/plain": [
       "True"
      ]
     },
     "execution_count": null,
     "metadata": {},
     "output_type": "execute_result"
    }
   ],
   "source": [
    "test_acq_gp(EMCMAcquisitionFunction())"
   ]
  },
  {
   "cell_type": "code",
   "execution_count": null,
   "metadata": {},
   "outputs": [],
   "source": []
  }
 ],
 "metadata": {
  "kernelspec": {
   "display_name": "Python 3",
   "language": "python",
   "name": "python3"
  }
 },
 "nbformat": 4,
 "nbformat_minor": 4
}
