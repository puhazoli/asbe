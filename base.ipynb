{
 "cells": [
  {
   "cell_type": "code",
   "execution_count": null,
   "metadata": {},
   "outputs": [],
   "source": [
    "from sklearn.base import BaseEstimator\n",
    "import numpy as np\n",
    "import pandas as pd\n",
    "from typing import Union, Callable, Optional, Tuple, List, Iterator, Any"
   ]
  },
  {
   "cell_type": "code",
   "execution_count": null,
   "metadata": {},
   "outputs": [],
   "source": [
    "data_types = Union[np.array, pd.DataFrame]"
   ]
  },
  {
   "cell_type": "code",
   "execution_count": null,
   "metadata": {},
   "outputs": [],
   "source": [
    "class BaseActiveLearner(BaseEstimator):\n",
    "    \"\"\"Basic of Active Learners later used, with the capability for treatment effects\n",
    "    \n",
    "    Inspired by modAL's BaseLearner, however modified for ITE estimation. Dataset is provided by \n",
    "    a dictionary for easier usage and less clutter.\n",
    "    \"\"\"\n",
    "    def __init__(self,\n",
    "                 estimator: BaseEstimator,\n",
    "                 acquisition_function: Callable,\n",
    "                 assignment_function: Union[Callable, None],\n",
    "                 stopping_function: Union[Callable, None],\n",
    "                 dataset: dict,\n",
    "                 **kwargs\n",
    "                ) -> None:\n",
    "        self.estimator = estimator\n",
    "        self.acquisition_function = acquisition_function\n",
    "        self.assignment_function = assignment_function\n",
    "        self.stopping_function = stopping_function\n",
    "        self.dataset = dataset\n",
    "        \n",
    "    def query(self):\n",
    "        \"\"\"Main function to get labels of datapoints\"\"\"\n",
    "        X_new, query_idx = None, None\n",
    "        return X_new, query_idx\n",
    "    \n",
    "    def teach(self, query_idx):\n",
    "        pass\n",
    "    \n",
    "    def score(self):\n",
    "        pass"
   ]
  },
  {
   "cell_type": "code",
   "execution_count": null,
   "metadata": {},
   "outputs": [],
   "source": [
    "class BaseAcquisitionFunction():\n",
    "    \"\"\"Base class for acquisition functions\"\"\"\n",
    "    def __init__(self):\n",
    "        pass"
   ]
  },
  {
   "cell_type": "code",
   "execution_count": null,
   "metadata": {},
   "outputs": [],
   "source": [
    "class BaseAssignmentFunction():\n",
    "    \"\"\"Base class for assignment functions\"\"\"\n",
    "    def __init__(self):\n",
    "        pass"
   ]
  }
 ],
 "metadata": {
  "kernelspec": {
   "display_name": "Python 3",
   "language": "python",
   "name": "python3"
  }
 },
 "nbformat": 4,
 "nbformat_minor": 4
}
