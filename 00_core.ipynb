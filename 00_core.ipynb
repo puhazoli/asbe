{
 "cells": [
  {
   "cell_type": "markdown",
   "metadata": {},
   "source": [
    "# ASBE - Automatic Stopping for Batch Experiments\n",
    "\n",
    "> API details."
   ]
  },
  {
   "cell_type": "code",
   "execution_count": null,
   "metadata": {},
   "outputs": [],
   "source": [
    "#hide\n",
    "from nbdev import *"
   ]
  },
  {
   "cell_type": "code",
   "execution_count": null,
   "metadata": {},
   "outputs": [
    {
     "name": "stdout",
     "output_type": "stream",
     "text": [
      "Cells will be exported to asbe.core,\n",
      "unless a different module is specified after an export flag: `%nbdev_export special.module`\n"
     ]
    }
   ],
   "source": [
    "%nbdev_default_export core"
   ]
  },
  {
   "cell_type": "code",
   "execution_count": null,
   "metadata": {},
   "outputs": [],
   "source": [
    "%nbdev_export\n",
    "from modAL.models.base import BaseLearner\n",
    "from sklearn.base import BaseEstimator, ClassifierMixin, RegressorMixin\n",
    "from typing import Union, Optional\n",
    "from copy import deepcopy"
   ]
  },
  {
   "cell_type": "code",
   "execution_count": null,
   "metadata": {},
   "outputs": [],
   "source": [
    "%nbdev_export\n",
    "estimator_type = Union[ClassifierMixin, RegressorMixin]\n",
    "class ASLearner(BaseLearner):\n",
    "    def __init__(self,\n",
    "                 estimator: Optional[estimator_type]=None, \n",
    "                 query_strategy=None,\n",
    "                 assignment_fc=None\n",
    "                ) -> None:\n",
    "        self.estimator = estimator\n",
    "        self.query_strategy = query_strategy\n",
    "        self.assignment_fc = assignment_fc\n",
    "        \n",
    "    def teach(self, X, query_X):\n",
    "        return(self.estimator.fit(X))"
   ]
  },
  {
   "cell_type": "code",
   "execution_count": null,
   "metadata": {},
   "outputs": [],
   "source": [
    "%nbdev_export\n",
    "class ITEEstimator(BaseEstimator):\n",
    "    \"\"\" Class for building a naive estimator for ITE estimation\n",
    "    \"\"\"\n",
    "    def __init__(self,\n",
    "                 model: estimator_type,\n",
    "                 X_training,\n",
    "                 t_training,\n",
    "                 y_training,\n",
    "                 X_unlabeled,\n",
    "                 two_model: bool = False,\n",
    "                ) -> None:\n",
    "        self.model = model\n",
    "        self.X_training = X_training\n",
    "        self.y_training = y_training\n",
    "        self.t_training = t_training\n",
    "    \n",
    "    def fit(self):\n",
    "        if two_model:\n",
    "            self.m1 = deepcopy(self.model)\n",
    "            control_ix = np.where(t_trainig == 0)\n",
    "            self.model.fit(self.X_training[control_ix,:], self.y_training[control_ix])\n",
    "            self.m1.fit(self.X_training[-control_ix,:], self.y_training[-control_ix])"
   ]
  },
  {
   "cell_type": "code",
   "execution_count": null,
   "metadata": {},
   "outputs": [],
   "source": []
  }
 ],
 "metadata": {
  "kernelspec": {
   "display_name": "Python 3",
   "language": "python",
   "name": "python3"
  }
 },
 "nbformat": 4,
 "nbformat_minor": 2
}
