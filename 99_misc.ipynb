{
 "cells": [
  {
   "cell_type": "markdown",
   "id": "bbfd5fc4",
   "metadata": {},
   "source": [
    "# Misc functions"
   ]
  },
  {
   "cell_type": "code",
   "execution_count": null,
   "id": "4e0efa14",
   "metadata": {},
   "outputs": [],
   "source": [
    "#default_exp helper"
   ]
  },
  {
   "cell_type": "code",
   "execution_count": null,
   "id": "3681c005",
   "metadata": {},
   "outputs": [
    {
     "name": "stderr",
     "output_type": "stream",
     "text": [
      "\n",
      "Bad key \"text.kerning_factor\" on line 4 in\n",
      "/opt/anaconda3/lib/python3.7/site-packages/matplotlib/mpl-data/stylelib/_classic_test_patch.mplstyle.\n",
      "You probably need to get an updated matplotlibrc file from\n",
      "https://github.com/matplotlib/matplotlib/blob/v3.1.3/matplotlibrc.template\n",
      "or from the matplotlib source distribution\n",
      "pandas.util.testing is deprecated. Use the functions in the public API at pandas.testing instead.\n"
     ]
    }
   ],
   "source": [
    "#export\n",
    "from asbe.base import *\n",
    "from asbe.models import *\n",
    "from asbe.estimators import *\n",
    "import pandas as pd\n",
    "import numpy as np\n",
    "from sklearn.model_selection import train_test_split\n",
    "from copy import deepcopy"
   ]
  },
  {
   "cell_type": "code",
   "execution_count": null,
   "id": "6457be2d",
   "metadata": {},
   "outputs": [],
   "source": [
    "#export\n",
    "def get_ihdp_dict(i = 1, test_size = 0.9, seperate_pool_test = False, pool_size=0.8, seed = None):\n",
    "    seed = 1005 if seed is None else seed\n",
    "    df = pd.read_csv(\n",
    "    f\"https://raw.githubusercontent.com/AMLab-Amsterdam/CEVAE/master/datasets/IHDP/csv/ihdp_npci_{i}.csv\",\n",
    "    names = [\"treatment\", \"y_factual\", \"y_cfactual\", \"mu0\", \"mu1\"] + [f'x{x}' for x in range(25)])\n",
    "\n",
    "    X = df.loc[:,\"x0\":].to_numpy()\n",
    "    t = df[\"treatment\"].to_numpy()\n",
    "    #t = np.zeros_like(t)\n",
    "    y = df[\"y_factual\"].to_numpy()\n",
    "    y1 = np.where(df[\"treatment\"] == 1,\n",
    "                   df['y_factual'],\n",
    "                   df['y_cfactual'])\n",
    "    y0 = np.where(df[\"treatment\"] == 0,\n",
    "                   df['y_factual'],\n",
    "                   df['y_cfactual'])\n",
    "    ite = np.where(df[\"treatment\"] == 1,\n",
    "                   df['y_factual'] - df[\"y_cfactual\"],\n",
    "                   df['y_cfactual'] - df[\"y_factual\"])\n",
    "    if seperate_pool_test:\n",
    "        X_train, X_pool, t_train, t_pool, y_train, y_pool, ite_train, ite_pool, y1_train, y1_pool, y0_train, y0_pool = train_test_split(\n",
    "    X, t, y, ite, y1, y0,  test_size=test_size, random_state=1005)\n",
    "        X_pool, X_test, t_pool, t_test, y_pool,y_test, ite_pool, ite_test, y1_pool,y1_test, y0_pool, y0_test = train_test_split(\n",
    "    X_pool, t_pool, y_pool, ite_pool, y1_pool, y0_pool, test_size=pool_size, random_state=1005)\n",
    "        ds = {\"X_training\": X_train,\n",
    "             \"y_training\": y_train,\n",
    "             \"t_training\": t_train,\n",
    "             \"X_pool\": X_pool, \n",
    "             \"y_pool\": y_pool,\n",
    "             \"t_pool\": t_pool,\n",
    "             \"y1_pool\": y1_pool,\n",
    "             \"y0_pool\":y0_pool,\n",
    "             \"X_test\": X_test,\n",
    "             \"y_test\": y_test,\n",
    "              \"t_test\": t_test,\n",
    "              \"ite_training\" : ite_train,\n",
    "              \"ite_test\": ite_test\n",
    "             }\n",
    "    else: \n",
    "        X_train, X_test, t_train, t_test, y_train, y_test, ite_train, ite_test, y1_train, y1_test, y0_train, y0_test = train_test_split(\n",
    "    X, t, y, ite, y1, y0,  test_size=test_size, random_state=1005)\n",
    "        ds = {\"X_training\": X_train,\n",
    "     \"y_training\": y_train,\n",
    "     \"t_training\": t_train,\n",
    "     \"X_pool\": deepcopy(X_test), \n",
    "     \"y_pool\": deepcopy(y_test),\n",
    "     \"t_pool\": deepcopy(t_test),\n",
    "     \"y1_pool\": y1_test,\n",
    "     \"y0_pool\":y0_test,\n",
    "     \"X_test\": X_test,\n",
    "     \"y_test\": y_test,\n",
    "      \"t_test\": t_test,\n",
    "      \"ite_test\": ite_test\n",
    "     }\n",
    "    return ds"
   ]
  },
  {
   "cell_type": "code",
   "execution_count": null,
   "id": "fb6116b5",
   "metadata": {},
   "outputs": [],
   "source": []
  }
 ],
 "metadata": {
  "kernelspec": {
   "display_name": "Python 3",
   "language": "python",
   "name": "python3"
  }
 },
 "nbformat": 4,
 "nbformat_minor": 5
}
