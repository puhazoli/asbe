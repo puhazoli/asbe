{
 "cells": [
  {
   "cell_type": "raw",
   "id": "9dc246c5",
   "metadata": {},
   "source": [
    "---\n",
    "output-file: offline_data.html\n",
    "title: How to deal with online data\n",
    "skip_exec: true\n",
    "---\n",
    "\n"
   ]
  },
  {
   "cell_type": "code",
   "execution_count": null,
   "id": "2f57ecc0",
   "metadata": {},
   "outputs": [],
   "source": [
    "from asbe.base import *\n",
    "from asbe.models import *\n",
    "from asbe.estimators import *\n",
    "from asbe.helper import *\n",
    "from dataclasses import dataclass, field\n",
    "import numpy as np\n",
    "from collections.abc import Callable\n",
    "from typing import Union\n",
    "from sklearn.linear_model import LinearRegression"
   ]
  },
  {
   "cell_type": "code",
   "execution_count": null,
   "id": "7507542f",
   "metadata": {},
   "outputs": [],
   "source": [
    "# Data generating process"
   ]
  },
  {
   "cell_type": "code",
   "execution_count": null,
   "id": "9d82b1cf",
   "metadata": {},
   "outputs": [],
   "source": [
    "dg = BaseDataGenerator(ds = {\"X_pool\":np.array([[1,2,3,4,5,6],[7,8,9,0,1,2]]),\n",
    "                         \"t_pool\":np.array( [1,0]),\n",
    "                         \"y1_pool\":np.array( [2, 10]),\n",
    "                         \"y0_pool\":np.array( [1, 7])})"
   ]
  },
  {
   "cell_type": "code",
   "execution_count": null,
   "id": "b8c9c0ff",
   "metadata": {},
   "outputs": [],
   "source": [
    "IHDP = BaseDataGenerator(ds = get_ihdp_dict(1))\n",
    "\n",
    "test_data = IHDP.get_data()\n",
    "assert len(test_data) == 3\n",
    "assert type(test_data[0]) is np.ndarray\n",
    "assert test_data[1].shape == (1,)"
   ]
  },
  {
   "cell_type": "code",
   "execution_count": null,
   "id": "87dc7133",
   "metadata": {},
   "outputs": [],
   "source": [
    "def dgp_x(no_query=1):\n",
    "    X1_10 = np.random.normal(size=(no_query,10))\n",
    "    X10_20 = np.random.binomial(1, .5, size=(no_query,10))\n",
    "    X = np.concatenate((X1_10, X10_20), axis=1)\n",
    "    return X\n",
    "\n",
    "def dgp_t(X):\n",
    "    return np.random.binomial(1, 0.5, size=(X.shape[0]))\n",
    "\n",
    "def dgp_y(X,t):\n",
    "    y0 = 2.455 - (.4*X[:, 1] + .154*X[:, 2] - .152*X[:, 11] - .126*X[:, 12])\n",
    "    gx = .254*X[:,2]**2 - .152*X[:, 11] - .4*X[:,11]**2 - .126*X[:, 12]\n",
    "    tau = (.4*X[:, 1] + .154*X[:, 2] - .152*X[:, 11] - .126*X[:, 12]) - np.where(gx>0, 1, 0)\n",
    "    y1 = y0 + tau\n",
    "    return np.where(t==1, y1, y0)"
   ]
  },
  {
   "cell_type": "code",
   "execution_count": null,
   "id": "b570c931",
   "metadata": {},
   "outputs": [],
   "source": [
    "l = BaseDataGenerator(ds= None,no_training=5, dgp_x = dgp_x, dgp_t = dgp_t, dgp_y = dgp_y)"
   ]
  },
  {
   "cell_type": "code",
   "execution_count": null,
   "id": "503a7562",
   "metadata": {},
   "outputs": [],
   "source": [
    "assert l.get_data(no_query=10)[0].shape[0] == 10"
   ]
  },
  {
   "cell_type": "code",
   "execution_count": null,
   "id": "7c986d6d",
   "metadata": {},
   "outputs": [
    {
     "ename": "AttributeError",
     "evalue": "'dict' object has no attribute 'get_X'",
     "output_type": "error",
     "traceback": [
      "\u001b[0;31m---------------------------------------------------------------------------\u001b[0m",
      "\u001b[0;31mAttributeError\u001b[0m                            Traceback (most recent call last)",
      "Input \u001b[0;32mIn [24]\u001b[0m, in \u001b[0;36m<cell line: 15>\u001b[0;34m()\u001b[0m\n\u001b[1;32m      6\u001b[0m asl \u001b[38;5;241m=\u001b[39m BaseActiveLearner(estimator \u001b[38;5;241m=\u001b[39m BaseITEEstimator(model \u001b[38;5;241m=\u001b[39m LinearRegression(),\n\u001b[1;32m      7\u001b[0m                                          two_model\u001b[38;5;241m=\u001b[39m\u001b[38;5;28;01mFalse\u001b[39;00m),\n\u001b[1;32m      8\u001b[0m                         acquisition_function\u001b[38;5;241m=\u001b[39mBaseAcquisitionFunction(),\n\u001b[0;32m   (...)\u001b[0m\n\u001b[1;32m     12\u001b[0m                         offline\u001b[38;5;241m=\u001b[39m\u001b[38;5;28;01mFalse\u001b[39;00m, \n\u001b[1;32m     13\u001b[0m                         al_steps\u001b[38;5;241m=\u001b[39m\u001b[38;5;241m5\u001b[39m)\n\u001b[1;32m     14\u001b[0m _ \u001b[38;5;241m=\u001b[39m asl\u001b[38;5;241m.\u001b[39mdataset\u001b[38;5;241m.\u001b[39mget_data(no_query\u001b[38;5;241m=\u001b[39m\u001b[38;5;241m100\u001b[39m, as_test\u001b[38;5;241m=\u001b[39m\u001b[38;5;28;01mTrue\u001b[39;00m)\n\u001b[0;32m---> 15\u001b[0m \u001b[43masl\u001b[49m\u001b[38;5;241;43m.\u001b[39;49m\u001b[43msimulate\u001b[49m\u001b[43m(\u001b[49m\u001b[43mmetric\u001b[49m\u001b[38;5;241;43m=\u001b[39;49m\u001b[38;5;124;43m\"\u001b[39;49m\u001b[38;5;124;43mQini\u001b[39;49m\u001b[38;5;124;43m\"\u001b[39;49m\u001b[43m)\u001b[49m\n",
      "File \u001b[0;32m~/Desktop/asbe/asbe/base.py:631\u001b[0m, in \u001b[0;36mBaseActiveLearner.simulate\u001b[0;34m(self, no_query, metric)\u001b[0m\n\u001b[1;32m    629\u001b[0m \u001b[38;5;28;01mfor\u001b[39;00m i \u001b[38;5;129;01min\u001b[39;00m \u001b[38;5;28mrange\u001b[39m(\u001b[38;5;241m1\u001b[39m, \u001b[38;5;28mself\u001b[39m\u001b[38;5;241m.\u001b[39mal_steps\u001b[38;5;241m+\u001b[39m\u001b[38;5;241m1\u001b[39m):\n\u001b[1;32m    630\u001b[0m     \u001b[38;5;28mself\u001b[39m\u001b[38;5;241m.\u001b[39mfit()\n\u001b[0;32m--> 631\u001b[0m     X_new, query_idx \u001b[38;5;241m=\u001b[39m \u001b[38;5;28;43mself\u001b[39;49m\u001b[38;5;241;43m.\u001b[39;49m\u001b[43mquery\u001b[49m\u001b[43m(\u001b[49m\u001b[43mno_query\u001b[49m\u001b[38;5;241;43m=\u001b[39;49m\u001b[43mno_query\u001b[49m\u001b[43m,\u001b[49m\u001b[43m \u001b[49m\u001b[43macquisition_function\u001b[49m\u001b[43m \u001b[49m\u001b[38;5;241;43m=\u001b[39;49m\u001b[43m \u001b[49m\u001b[43maf\u001b[49m\u001b[43m)\u001b[49m\n\u001b[1;32m    632\u001b[0m     \u001b[38;5;28;01mif\u001b[39;00m \u001b[38;5;28mself\u001b[39m\u001b[38;5;241m.\u001b[39mnext_query:\n\u001b[1;32m    633\u001b[0m         \u001b[38;5;28;01mif\u001b[39;00m \u001b[38;5;28mself\u001b[39m\u001b[38;5;241m.\u001b[39moffline:\n",
      "File \u001b[0;32m~/Desktop/asbe/asbe/base.py:459\u001b[0m, in \u001b[0;36mBaseActiveLearner.query\u001b[0;34m(self, no_query, acquisition_function, return_all, **kwargs)\u001b[0m\n\u001b[1;32m    454\u001b[0m     X_new, query_idx \u001b[38;5;241m=\u001b[39m acquisition_function\u001b[38;5;241m.\u001b[39mselect_data(\u001b[38;5;28mself\u001b[39m\u001b[38;5;241m.\u001b[39mestimator,\n\u001b[1;32m    455\u001b[0m                                                   \u001b[38;5;28mself\u001b[39m\u001b[38;5;241m.\u001b[39mdataset,\n\u001b[1;32m    456\u001b[0m                                                   no_query,\n\u001b[1;32m    457\u001b[0m                                                   \u001b[38;5;241m*\u001b[39m\u001b[38;5;241m*\u001b[39mkwargs)\n\u001b[1;32m    458\u001b[0m \u001b[38;5;28;01melse\u001b[39;00m:\n\u001b[0;32m--> 459\u001b[0m     X_get \u001b[38;5;241m=\u001b[39m \u001b[38;5;28;43mself\u001b[39;49m\u001b[38;5;241;43m.\u001b[39;49m\u001b[43mdataset\u001b[49m\u001b[38;5;241;43m.\u001b[39;49m\u001b[43mget_X\u001b[49m(no_query \u001b[38;5;241m=\u001b[39m no_query)\n\u001b[1;32m    460\u001b[0m     data_to_estimate \u001b[38;5;241m=\u001b[39m {\u001b[38;5;124m\"\u001b[39m\u001b[38;5;124mX_training\u001b[39m\u001b[38;5;124m\"\u001b[39m:\u001b[38;5;28mself\u001b[39m\u001b[38;5;241m.\u001b[39mdataset[\u001b[38;5;124m\"\u001b[39m\u001b[38;5;124mX_training\u001b[39m\u001b[38;5;124m\"\u001b[39m],\n\u001b[1;32m    461\u001b[0m                        \u001b[38;5;124m\"\u001b[39m\u001b[38;5;124mX_pool\u001b[39m\u001b[38;5;124m\"\u001b[39m: X_get}\n\u001b[1;32m    462\u001b[0m     decision_to_query \u001b[38;5;241m=\u001b[39m acquisition_function\u001b[38;5;241m.\u001b[39mselect_data(\u001b[38;5;28mself\u001b[39m\u001b[38;5;241m.\u001b[39mestimator,\n\u001b[1;32m    463\u001b[0m                                                   data_to_estimate,\n\u001b[1;32m    464\u001b[0m                                                   no_query,\n\u001b[1;32m    465\u001b[0m                                                   offline \u001b[38;5;241m=\u001b[39m \u001b[38;5;28;01mFalse\u001b[39;00m,\n\u001b[1;32m    466\u001b[0m                                                   \u001b[38;5;241m*\u001b[39m\u001b[38;5;241m*\u001b[39mkwargs)\n",
      "\u001b[0;31mAttributeError\u001b[0m: 'dict' object has no attribute 'get_X'"
     ]
    }
   ],
   "source": [
    "l = BaseDataGenerator(ds = None,\n",
    "                      no_training=5,\n",
    "                      dgp_x = dgp_x,\n",
    "                      dgp_t = dgp_t, \n",
    "                      dgp_y = dgp_y)\n",
    "asl = BaseActiveLearner(estimator = BaseITEEstimator(model = LinearRegression(),\n",
    "                                         two_model=False),\n",
    "                        acquisition_function=BaseAcquisitionFunction(),\n",
    "                        assignment_function=BaseAssignmentFunction(),\n",
    "                        stopping_function = None,\n",
    "                        dataset=l,\n",
    "                        offline=False, \n",
    "                        al_steps=5)\n",
    "_ = asl.dataset.get_data(no_query=100, as_test=True)\n",
    "asl.simulate(metric=\"Qini\")"
   ]
  },
  {
   "cell_type": "code",
   "execution_count": null,
   "id": "c183f70b",
   "metadata": {},
   "outputs": [],
   "source": []
  }
 ],
 "metadata": {
  "kernelspec": {
   "display_name": "python3",
   "language": "python",
   "name": "python3"
  }
 },
 "nbformat": 4,
 "nbformat_minor": 5
}
