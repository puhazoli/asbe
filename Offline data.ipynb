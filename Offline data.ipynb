{
 "cells": [
  {
   "cell_type": "code",
   "execution_count": null,
   "id": "865f56f4",
   "metadata": {},
   "outputs": [],
   "source": [
    "%load_ext autoreload\n",
    "%autoreload 2"
   ]
  },
  {
   "cell_type": "code",
   "execution_count": null,
   "id": "6b72e5d9",
   "metadata": {},
   "outputs": [
    {
     "name": "stderr",
     "output_type": "stream",
     "text": [
      "\n",
      "Bad key \"text.kerning_factor\" on line 4 in\n",
      "/opt/anaconda3/lib/python3.7/site-packages/matplotlib/mpl-data/stylelib/_classic_test_patch.mplstyle.\n",
      "You probably need to get an updated matplotlibrc file from\n",
      "https://github.com/matplotlib/matplotlib/blob/v3.1.3/matplotlibrc.template\n",
      "or from the matplotlib source distribution\n",
      "pandas.util.testing is deprecated. Use the functions in the public API at pandas.testing instead.\n"
     ]
    }
   ],
   "source": [
    "from asbe.base import *\n",
    "from asbe.models import *\n",
    "from asbe.estimators import *\n",
    "from asbe.helper import *\n",
    "from dataclasses import dataclass\n",
    "import numpy as np\n",
    "from collections.abc import Callable\n",
    "from typing import Union"
   ]
  },
  {
   "cell_type": "code",
   "execution_count": null,
   "id": "4d3e5357",
   "metadata": {},
   "outputs": [],
   "source": [
    "# Data generating process"
   ]
  },
  {
   "cell_type": "code",
   "execution_count": null,
   "id": "33d78675",
   "metadata": {},
   "outputs": [],
   "source": [
    "@dataclass\n",
    "class DataGenerator():\n",
    "    ds: str = None\n",
    "    dgp_x : Union[Callable, None] = None\n",
    "    dgp_t : Union[Callable, None] = None\n",
    "    dgp_y : Union[Callable, None] = None\n",
    "    \n",
    "    def get_X(self, method : str = \"random\", no_query : int = 1):\n",
    "        if self.ds is not None:\n",
    "            ix = np.random.randint(low = 0, high = self.ds[\"X_pool\"].shape[0], size=(no_query))\n",
    "            X_new = self.ds[\"X_pool\"][ix,:]\n",
    "            self.selected_ix = ix\n",
    "        else:\n",
    "            X_new = self.dgp_x()\n",
    "        self.X_new = X_new\n",
    "        return X_new\n",
    "            \n",
    "    def get_t(self, X_new=None):\n",
    "        if X_new is None:\n",
    "            X_new = self.X_new\n",
    "        if self.ds is not None:\n",
    "            t_new = self.ds[\"t_pool\"][self.selected_ix]\n",
    "        else:\n",
    "            t_new = self.dgp_t(X_new)\n",
    "        self.t_new = t_new\n",
    "        return t_new\n",
    "        \n",
    "    def get_y(self, X_new=None, t_new=None):\n",
    "        if X_new is None:\n",
    "            X_new = self.X_new\n",
    "        if t_new is None:\n",
    "            t_new = self.t_new\n",
    "        if self.ds is not None:\n",
    "            y_new = np.where(t_new == 1,\n",
    "                             self.ds[\"y1_pool\"][self.selected_ix],\n",
    "                             self.ds[\"y0_pool\"][self.selected_ix])\n",
    "        else:\n",
    "            y_new = self.dgp_y(X_new, t_new)\n",
    "        return y_new\n",
    "            \n",
    "    def get_data(self):\n",
    "        X_new = self.get_X()\n",
    "        t_new = self.get_t()\n",
    "        y_new = self.get_y()\n",
    "        return (X_new, t_new, y_new)"
   ]
  },
  {
   "cell_type": "code",
   "execution_count": null,
   "id": "6fdd883a",
   "metadata": {},
   "outputs": [],
   "source": [
    "dg = DataGenerator(ds = {\"X_pool\":np.array([[1,2,3,4,5,6],[7,8,9,0,1,2]]),\n",
    "                         \"t_pool\":np.array( [1,0]),\n",
    "                         \"y1_pool\":np.array( [2, 10]),\n",
    "                         \"y0_pool\":np.array( [1, 7])})"
   ]
  },
  {
   "cell_type": "code",
   "execution_count": null,
   "id": "caad314f",
   "metadata": {},
   "outputs": [
    {
     "data": {
      "text/plain": [
       "(array([[7, 8, 9, 0, 1, 2]]), array([0]), array([7]))"
      ]
     },
     "execution_count": null,
     "metadata": {},
     "output_type": "execute_result"
    }
   ],
   "source": [
    "dg.get_data()"
   ]
  },
  {
   "cell_type": "code",
   "execution_count": null,
   "id": "17aeea69",
   "metadata": {},
   "outputs": [
    {
     "ename": "AssertionError",
     "evalue": "",
     "output_type": "error",
     "traceback": [
      "\u001b[0;31m---------------------------------------------------------------------------\u001b[0m",
      "\u001b[0;31mAssertionError\u001b[0m                            Traceback (most recent call last)",
      "\u001b[0;32m<ipython-input-25-abeda5386ee1>\u001b[0m in \u001b[0;36m<module>\u001b[0;34m\u001b[0m\n\u001b[1;32m      4\u001b[0m \u001b[0;32massert\u001b[0m \u001b[0mlen\u001b[0m\u001b[0;34m(\u001b[0m\u001b[0mtest_data\u001b[0m\u001b[0;34m)\u001b[0m \u001b[0;34m==\u001b[0m \u001b[0;36m3\u001b[0m\u001b[0;34m\u001b[0m\u001b[0;34m\u001b[0m\u001b[0m\n\u001b[1;32m      5\u001b[0m \u001b[0;32massert\u001b[0m \u001b[0mtype\u001b[0m\u001b[0;34m(\u001b[0m\u001b[0mtest_data\u001b[0m\u001b[0;34m[\u001b[0m\u001b[0;36m0\u001b[0m\u001b[0;34m]\u001b[0m\u001b[0;34m)\u001b[0m \u001b[0;32mis\u001b[0m \u001b[0mnp\u001b[0m\u001b[0;34m.\u001b[0m\u001b[0mndarray\u001b[0m\u001b[0;34m\u001b[0m\u001b[0;34m\u001b[0m\u001b[0m\n\u001b[0;32m----> 6\u001b[0;31m \u001b[0;32massert\u001b[0m \u001b[0mtest_data\u001b[0m\u001b[0;34m[\u001b[0m\u001b[0;36m1\u001b[0m\u001b[0;34m]\u001b[0m\u001b[0;34m.\u001b[0m\u001b[0mshape\u001b[0m \u001b[0;34m==\u001b[0m \u001b[0;34m(\u001b[0m\u001b[0;36m1\u001b[0m\u001b[0;34m)\u001b[0m\u001b[0;34m\u001b[0m\u001b[0;34m\u001b[0m\u001b[0m\n\u001b[0m",
      "\u001b[0;31mAssertionError\u001b[0m: "
     ]
    }
   ],
   "source": [
    "IHDP = DataGenerator(ds = get_ihdp_dict(1))\n",
    "\n",
    "test_data = IHDP.get_data()\n",
    "assert len(test_data) == 3\n",
    "assert type(test_data[0]) is np.ndarray\n",
    "assert test_data[1].shape == (1)"
   ]
  },
  {
   "cell_type": "code",
   "execution_count": null,
   "id": "2c0214b9",
   "metadata": {},
   "outputs": [
    {
     "data": {
      "image/png": "[encoded data removed]",
      "text/latex": [
       "$\\displaystyle \\left( 1\\right)$"
      ],
      "text/plain": [
       "(1,)"
      ]
     },
     "execution_count": null,
     "metadata": {},
     "output_type": "execute_result"
    }
   ],
   "source": [
    "test_data[1].shape"
   ]
  },
  {
   "cell_type": "code",
   "execution_count": null,
   "id": "6be72280",
   "metadata": {},
   "outputs": [],
   "source": []
  }
 ],
 "metadata": {
  "kernelspec": {
   "display_name": "Python 3",
   "language": "python",
   "name": "python3"
  }
 },
 "nbformat": 4,
 "nbformat_minor": 5
}
