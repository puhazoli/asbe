{
 "cells": [
  {
   "cell_type": "code",
   "execution_count": null,
   "id": "d46f6f6c",
   "metadata": {},
   "outputs": [],
   "source": [
    "%load_ext autoreload\n",
    "%autoreload 2"
   ]
  },
  {
   "cell_type": "code",
   "execution_count": null,
   "id": "b002b692",
   "metadata": {},
   "outputs": [],
   "source": [
    "from asbe.base import *\n",
    "from asbe.models import *\n",
    "from asbe.estimators import *\n",
    "from dataclasses import dataclass\n",
    "import numpy as np\n",
    "from collections.abc import Callable\n",
    "from typing import Union"
   ]
  },
  {
   "cell_type": "code",
   "execution_count": null,
   "id": "e1621991",
   "metadata": {},
   "outputs": [],
   "source": [
    "# Data generating process"
   ]
  },
  {
   "cell_type": "code",
   "execution_count": null,
   "id": "ddb79c57",
   "metadata": {},
   "outputs": [],
   "source": [
    "@dataclass\n",
    "class DataGenerator():\n",
    "    ds: str = None\n",
    "    dgp_x : Union[Callable, None] = None\n",
    "    dgp_t : Union[Callable, None] = None\n",
    "    dgp_y : Union[Callable, None] = None\n",
    "    \n",
    "    def get_X(self, method : str = \"random\", no_query : int = 1):\n",
    "        if self.ds is not None:\n",
    "            ix = np.random.randint(low = 0, high = self.ds[\"X_pool\"].shape[0], size=(no_query))\n",
    "            X_new = self.ds[\"X_pool\"][ix,:]\n",
    "            self.selected_ix = ix\n",
    "        else:\n",
    "            X_new = self.dgp_x()\n",
    "        self.X_new = X_new\n",
    "        return X_new\n",
    "            \n",
    "    def get_t(self, X_new):\n",
    "        if X_new is None:\n",
    "            X_new = self.X_new\n",
    "        if self.ds is not None:\n",
    "            t_new = self.ds[\"t_pool\"][self.selected_ix]\n",
    "        else:\n",
    "            t_new = self.dgp_t(X_new)\n",
    "        self.t_new = t_new"
   ]
  },
  {
   "cell_type": "code",
   "execution_count": null,
   "id": "f3e00d1e",
   "metadata": {},
   "outputs": [],
   "source": [
    "dg = DataGenerator(ds = {\"X_pool\":np.array([[1,2,3,4,5,6],[7,8,9,0,1,2]])})"
   ]
  },
  {
   "cell_type": "code",
   "execution_count": null,
   "id": "6d84129d",
   "metadata": {},
   "outputs": [
    {
     "data": {
      "text/plain": [
       "array([[7, 8, 9, 0, 1, 2]])"
      ]
     },
     "execution_count": null,
     "metadata": {},
     "output_type": "execute_result"
    }
   ],
   "source": [
    "dg.get_X()"
   ]
  },
  {
   "cell_type": "code",
   "execution_count": null,
   "id": "2d607d7a",
   "metadata": {},
   "outputs": [],
   "source": []
  }
 ],
 "metadata": {
  "kernelspec": {
   "display_name": "Python 3",
   "language": "python",
   "name": "python3"
  }
 },
 "nbformat": 4,
 "nbformat_minor": 5
}
