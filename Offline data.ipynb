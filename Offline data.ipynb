{
 "cells": [
  {
   "cell_type": "code",
   "execution_count": null,
   "id": "a1c09a65",
   "metadata": {},
   "outputs": [
    {
     "name": "stdout",
     "output_type": "stream",
     "text": [
      "The autoreload extension is already loaded. To reload it, use:\n",
      "  %reload_ext autoreload\n"
     ]
    }
   ],
   "source": [
    "%load_ext autoreload\n",
    "%autoreload 2"
   ]
  },
  {
   "cell_type": "code",
   "execution_count": null,
   "id": "2f57ecc0",
   "metadata": {},
   "outputs": [
    {
     "name": "stderr",
     "output_type": "stream",
     "text": [
      "/opt/anaconda3/lib/python3.7/site-packages/dask/dataframe/utils.py:14: FutureWarning: pandas.util.testing is deprecated. Use the functions in the public API at pandas.testing instead.\n",
      "  import pandas.util.testing as tm\n",
      "\n",
      "Bad key \"text.kerning_factor\" on line 4 in\n",
      "/opt/anaconda3/lib/python3.7/site-packages/matplotlib/mpl-data/stylelib/_classic_test_patch.mplstyle.\n",
      "You probably need to get an updated matplotlibrc file from\n",
      "https://github.com/matplotlib/matplotlib/blob/v3.1.3/matplotlibrc.template\n",
      "or from the matplotlib source distribution\n"
     ]
    }
   ],
   "source": [
    "from asbe.base import *\n",
    "from asbe.models import *\n",
    "from asbe.estimators import *\n",
    "from asbe.helper import *\n",
    "from dataclasses import dataclass, field\n",
    "import numpy as np\n",
    "from collections.abc import Callable\n",
    "from typing import Union\n",
    "from sklearn.linear_model import LinearRegression"
   ]
  },
  {
   "cell_type": "code",
   "execution_count": null,
   "id": "7507542f",
   "metadata": {},
   "outputs": [],
   "source": [
    "# Data generating process§b"
   ]
  },
  {
   "cell_type": "code",
   "execution_count": null,
   "id": "9d82b1cf",
   "metadata": {},
   "outputs": [],
   "source": [
    "dg = BaseDataGenerator(ds = {\"X_pool\":np.array([[1,2,3,4,5,6],[7,8,9,0,1,2]]),\n",
    "                         \"t_pool\":np.array( [1,0]),\n",
    "                         \"y1_pool\":np.array( [2, 10]),\n",
    "                         \"y0_pool\":np.array( [1, 7])})"
   ]
  },
  {
   "cell_type": "code",
   "execution_count": null,
   "id": "b8c9c0ff",
   "metadata": {},
   "outputs": [],
   "source": [
    "IHDP = BaseDataGenerator(ds = get_ihdp_dict(1))\n",
    "\n",
    "test_data = IHDP.get_data()\n",
    "assert len(test_data) == 3\n",
    "assert type(test_data[0]) is np.ndarray\n",
    "assert test_data[1].shape == (1,)"
   ]
  },
  {
   "cell_type": "code",
   "execution_count": null,
   "id": "87dc7133",
   "metadata": {},
   "outputs": [],
   "source": [
    "def dgp_x(no_query=1):\n",
    "    X1_10 = np.random.normal(size=(no_query,10))\n",
    "    X10_20 = np.random.binomial(1, .5, size=(no_query,10))\n",
    "    X = np.concatenate((X1_10, X10_20), axis=1)\n",
    "    return X\n",
    "\n",
    "def dgp_t(X):\n",
    "    return np.random.binomial(1, 0.5, size=(X.shape[0]))\n",
    "\n",
    "def dgp_y(X,t):\n",
    "    y0 = 2.455 - (.4*X[:, 1] + .154*X[:, 2] - .152*X[:, 11] - .126*X[:, 12])\n",
    "    gx = .254*X[:,2]**2 - .152*X[:, 11] - .4*X[:,11]**2 - .126*X[:, 12]\n",
    "    tau = (.4*X[:, 1] + .154*X[:, 2] - .152*X[:, 11] - .126*X[:, 12]) - np.where(gx>0, 1, 0)\n",
    "    y1 = y0 + tau\n",
    "    return np.where(t==1, y1, y0)"
   ]
  },
  {
   "cell_type": "code",
   "execution_count": null,
   "id": "b570c931",
   "metadata": {},
   "outputs": [],
   "source": [
    "l = BaseDataGenerator(ds= None,no_training=5, dgp_x = dgp_x, dgp_t = dgp_t, dgp_y = dgp_y)"
   ]
  },
  {
   "cell_type": "code",
   "execution_count": null,
   "id": "503a7562",
   "metadata": {},
   "outputs": [],
   "source": [
    "assert l.get_data(no_query=10)[0].shape[0] == 10"
   ]
  },
  {
   "cell_type": "code",
   "execution_count": null,
   "id": "7c986d6d",
   "metadata": {},
   "outputs": [
    {
     "name": "stderr",
     "output_type": "stream",
     "text": [
      "invalid value encountered in double_scalars\n",
      "divide by zero encountered in double_scalars\n",
      "invalid value encountered in double_scalars\n",
      "divide by zero encountered in double_scalars\n",
      "invalid value encountered in double_scalars\n",
      "divide by zero encountered in double_scalars\n",
      "invalid value encountered in double_scalars\n",
      "divide by zero encountered in double_scalars\n",
      "invalid value encountered in double_scalars\n",
      "divide by zero encountered in double_scalars\n"
     ]
    },
    {
     "data": {
      "text/plain": [
       "{'base_1': {1: 0.000384615384615386,\n",
       "  2: 0.0011538461538461657,\n",
       "  3: 0.0011538461538461596,\n",
       "  4: 0.0011538461538461698,\n",
       "  5: 0.0023076923076923122}}"
      ]
     },
     "execution_count": null,
     "metadata": {},
     "output_type": "execute_result"
    }
   ],
   "source": [
    "l = BaseDataGenerator(ds= None,\n",
    "                      no_training=5,\n",
    "                      dgp_x = dgp_x,\n",
    "                      dgp_t = dgp_t, \n",
    "                      dgp_y = dgp_y)\n",
    "asl = BaseActiveLearner(estimator = BaseITEEstimator(model = LinearRegression(),\n",
    "                                         two_model=False),\n",
    "                        acquisition_function=BaseAcquisitionFunction(),\n",
    "                        assignment_function=BaseAssignmentFunction(),\n",
    "                        stopping_function = None,\n",
    "                        dataset=l,\n",
    "                        offline=False, \n",
    "                        al_steps=5)\n",
    "_ = asl.dataset.get_data(no_query=100, as_test=True)\n",
    "asl.simulate(metric=\"Qini\")"
   ]
  },
  {
   "cell_type": "code",
   "execution_count": null,
   "id": "b37be55f",
   "metadata": {},
   "outputs": [],
   "source": []
  }
 ],
 "metadata": {
  "kernelspec": {
   "display_name": "Python 3",
   "language": "python",
   "name": "python3"
  }
 },
 "nbformat": 4,
 "nbformat_minor": 5
}
