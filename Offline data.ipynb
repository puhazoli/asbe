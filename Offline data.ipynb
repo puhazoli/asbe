{
 "cells": [
  {
   "cell_type": "code",
   "execution_count": null,
   "id": "36486338",
   "metadata": {},
   "outputs": [],
   "source": [
    "%load_ext autoreload\n",
    "%autoreload 2"
   ]
  },
  {
   "cell_type": "code",
   "execution_count": null,
   "id": "42dad317",
   "metadata": {},
   "outputs": [],
   "source": [
    "from asbe.base import *\n",
    "from asbe.models import *\n",
    "from asbe.estimators import *\n",
    "from dataclasses import dataclass\n",
    "import numpy as np\n",
    "from collections.abc import Callable\n",
    "from typing import Union"
   ]
  },
  {
   "cell_type": "code",
   "execution_count": null,
   "id": "68ac8a7f",
   "metadata": {},
   "outputs": [],
   "source": [
    "# Data generating process"
   ]
  },
  {
   "cell_type": "code",
   "execution_count": null,
   "id": "60868f5a",
   "metadata": {},
   "outputs": [],
   "source": [
    "@dataclass\n",
    "class DataGenerator():\n",
    "    ds: str = None\n",
    "    dgp_x : Union[Callable, None] = None\n",
    "    \n",
    "    def get_X(self, method : str = \"random\", no_query : int = 1):\n",
    "        if self.ds is not None:\n",
    "            ix = np.random.randint(low = 0, high = self.ds[\"X_pool\"].shape[0]-1, size=(no_query))\n",
    "            X_new = self.ds[\"X_pool\"][ix,:]\n",
    "        else:\n",
    "            X_new = self.dgp_x()"
   ]
  },
  {
   "cell_type": "code",
   "execution_count": null,
   "id": "ecdbacde",
   "metadata": {},
   "outputs": [],
   "source": [
    "dg = DataGenerator()"
   ]
  },
  {
   "cell_type": "code",
   "execution_count": null,
   "id": "6f99b9fa",
   "metadata": {},
   "outputs": [],
   "source": [
    "dg.get_X()"
   ]
  },
  {
   "cell_type": "code",
   "execution_count": null,
   "id": "f2aedce9",
   "metadata": {},
   "outputs": [
    {
     "data": {
      "text/plain": [
       "{'ds': None, 'dgp_x': None}"
      ]
     },
     "execution_count": null,
     "metadata": {},
     "output_type": "execute_result"
    }
   ],
   "source": [
    "dg.__dict__"
   ]
  },
  {
   "cell_type": "code",
   "execution_count": null,
   "id": "e4f350f3",
   "metadata": {},
   "outputs": [],
   "source": []
  }
 ],
 "metadata": {
  "kernelspec": {
   "display_name": "Python 3",
   "language": "python",
   "name": "python3"
  }
 },
 "nbformat": 4,
 "nbformat_minor": 5
}
