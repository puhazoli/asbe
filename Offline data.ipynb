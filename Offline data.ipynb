{
 "cells": [
  {
   "cell_type": "code",
   "execution_count": null,
   "id": "5a361a95",
   "metadata": {},
   "outputs": [],
   "source": [
    "%load_ext autoreload\n",
    "%autoreload 2"
   ]
  },
  {
   "cell_type": "code",
   "execution_count": null,
   "id": "1a360f09",
   "metadata": {},
   "outputs": [],
   "source": [
    "from asbe.base import *\n",
    "from asbe.models import *\n",
    "from asbe.estimators import *\n",
    "from dataclasses import dataclass\n",
    "import numpy as np"
   ]
  },
  {
   "cell_type": "code",
   "execution_count": null,
   "id": "1a4b83a4",
   "metadata": {},
   "outputs": [],
   "source": [
    "# Data generating process"
   ]
  },
  {
   "cell_type": "code",
   "execution_count": null,
   "id": "148068b5",
   "metadata": {},
   "outputs": [],
   "source": [
    "@dataclass\n",
    "class DataGenerator():\n",
    "    ds: str = None\n",
    "    \n",
    "    def get_X(self, method : str = \"random\", no_query : int = 1):\n",
    "        if \"ds\" in self.__dict__:\n",
    "            ix = np.random.randint(low = 0, high = self.ds[\"X_pool\"].shape[0]-1, size=(no_query))\n",
    "            X_new = self.ds[\"X_pool\"][ix,:]"
   ]
  },
  {
   "cell_type": "code",
   "execution_count": null,
   "id": "dbef5556",
   "metadata": {},
   "outputs": [],
   "source": [
    "dg = DataGenerator(ds=\"hmabi\")"
   ]
  },
  {
   "cell_type": "code",
   "execution_count": null,
   "id": "6f3f0d37",
   "metadata": {},
   "outputs": [
    {
     "name": "stdout",
     "output_type": "stream",
     "text": [
      "lupika\n"
     ]
    }
   ],
   "source": [
    "dg.get_X()"
   ]
  },
  {
   "cell_type": "code",
   "execution_count": null,
   "id": "a101a3f5",
   "metadata": {},
   "outputs": [],
   "source": []
  }
 ],
 "metadata": {
  "kernelspec": {
   "display_name": "Python 3",
   "language": "python",
   "name": "python3"
  }
 },
 "nbformat": 4,
 "nbformat_minor": 5
}
