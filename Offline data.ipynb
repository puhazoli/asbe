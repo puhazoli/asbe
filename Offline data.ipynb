{
 "cells": [
  {
   "cell_type": "code",
   "execution_count": null,
   "id": "a1c09a65",
   "metadata": {},
   "outputs": [],
   "source": [
    "%load_ext autoreload\n",
    "%autoreload 2"
   ]
  },
  {
   "cell_type": "code",
   "execution_count": null,
   "id": "2f57ecc0",
   "metadata": {},
   "outputs": [
    {
     "name": "stderr",
     "output_type": "stream",
     "text": [
      "\n",
      "Bad key \"text.kerning_factor\" on line 4 in\n",
      "/opt/anaconda3/lib/python3.7/site-packages/matplotlib/mpl-data/stylelib/_classic_test_patch.mplstyle.\n",
      "You probably need to get an updated matplotlibrc file from\n",
      "https://github.com/matplotlib/matplotlib/blob/v3.1.3/matplotlibrc.template\n",
      "or from the matplotlib source distribution\n",
      "pandas.util.testing is deprecated. Use the functions in the public API at pandas.testing instead.\n"
     ]
    }
   ],
   "source": [
    "from asbe.base import *\n",
    "from asbe.models import *\n",
    "from asbe.estimators import *\n",
    "from asbe.helper import *\n",
    "from dataclasses import dataclass, field\n",
    "import numpy as np\n",
    "from collections.abc import Callable\n",
    "from typing import Union\n",
    "from sklearn.linear_model import LinearRegression"
   ]
  },
  {
   "cell_type": "code",
   "execution_count": null,
   "id": "7507542f",
   "metadata": {},
   "outputs": [],
   "source": [
    "# Data generating process"
   ]
  },
  {
   "cell_type": "code",
   "execution_count": null,
   "id": "9d82b1cf",
   "metadata": {},
   "outputs": [],
   "source": [
    "dg = BaseDataGenerator(ds = {\"X_pool\":np.array([[1,2,3,4,5,6],[7,8,9,0,1,2]]),\n",
    "                         \"t_pool\":np.array( [1,0]),\n",
    "                         \"y1_pool\":np.array( [2, 10]),\n",
    "                         \"y0_pool\":np.array( [1, 7])})"
   ]
  },
  {
   "cell_type": "code",
   "execution_count": null,
   "id": "b8c9c0ff",
   "metadata": {},
   "outputs": [],
   "source": [
    "IHDP = BaseDataGenerator(ds = get_ihdp_dict(1))\n",
    "\n",
    "test_data = IHDP.get_data()\n",
    "assert len(test_data) == 3\n",
    "assert type(test_data[0]) is np.ndarray\n",
    "assert test_data[1].shape == (1,)"
   ]
  },
  {
   "cell_type": "code",
   "execution_count": null,
   "id": "87dc7133",
   "metadata": {},
   "outputs": [],
   "source": [
    "def dgp_x(no_query=1):\n",
    "    X1_10 = np.random.normal(size=(no_query,10))\n",
    "    X10_20 = np.random.binomial(1, .5, size=(no_query,10))\n",
    "    X = np.concatenate((X1_10, X10_20), axis=1)\n",
    "    return X\n",
    "\n",
    "def dgp_t(X):\n",
    "    return np.random.binomial(1, 0.5, size=(X.shape[0]))\n",
    "\n",
    "def dgp_y(X,t):\n",
    "    y0 = 2.455 - (.4*X[:, 1] + .154*X[:, 2] - .152*X[:, 11] - .126*X[:, 12])\n",
    "    gx = .254*X[:,2]**2 - .152*X[:, 11] - .4*X[:,11]**2 - .126*X[:, 12]\n",
    "    tau = (.4*X[:, 1] + .154*X[:, 2] - .152*X[:, 11] - .126*X[:, 12]) - np.where(gx>0, 1, 0)\n",
    "    y1 = y0 + tau\n",
    "    return np.where(t==1, y1, y0)"
   ]
  },
  {
   "cell_type": "code",
   "execution_count": null,
   "id": "b570c931",
   "metadata": {},
   "outputs": [],
   "source": [
    "l = BaseDataGenerator(ds= None,no_training=5, dgp_x = dgp_x, dgp_t = dgp_t, dgp_y = dgp_y)"
   ]
  },
  {
   "cell_type": "code",
   "execution_count": null,
   "id": "503a7562",
   "metadata": {},
   "outputs": [],
   "source": [
    "assert l.get_data(no_query=10)[0].shape[0] == 10"
   ]
  },
  {
   "cell_type": "code",
   "execution_count": null,
   "id": "7c986d6d",
   "metadata": {},
   "outputs": [],
   "source": [
    "asl = BaseActiveLearner(estimator = BaseITEEstimator(model = LinearRegression(),\n",
    "                                         two_model=False),\n",
    "                        acquisition_function=BaseAcquisitionFunction(),\n",
    "                        assignment_function=BaseAssignmentFunction(),\n",
    "                        stopping_function = None,\n",
    "                        dataset=l,\n",
    "                        offline=False)\n",
    "_ = asl.dataset.get_data(no_query=100, as_test=True)"
   ]
  },
  {
   "cell_type": "code",
   "execution_count": null,
   "id": "b3c2e0d0",
   "metadata": {},
   "outputs": [
    {
     "ename": "AttributeError",
     "evalue": "'BaseDataGenerator' object has no attribute 'ite_test'",
     "output_type": "error",
     "traceback": [
      "\u001b[0;31m---------------------------------------------------------------------------\u001b[0m",
      "\u001b[0;31mAttributeError\u001b[0m                            Traceback (most recent call last)",
      "\u001b[0;32m<ipython-input-15-44ee7032dbd9>\u001b[0m in \u001b[0;36m<module>\u001b[0;34m\u001b[0m\n\u001b[0;32m----> 1\u001b[0;31m \u001b[0masl\u001b[0m\u001b[0;34m.\u001b[0m\u001b[0msimulate\u001b[0m\u001b[0;34m(\u001b[0m\u001b[0mmetric\u001b[0m\u001b[0;34m=\u001b[0m\u001b[0;34m\"PEHE\"\u001b[0m\u001b[0;34m)\u001b[0m\u001b[0;34m\u001b[0m\u001b[0;34m\u001b[0m\u001b[0m\n\u001b[0m",
      "\u001b[0;32m~/Desktop/asbe/asbe/base.py\u001b[0m in \u001b[0;36msimulate\u001b[0;34m(self, no_query, metric)\u001b[0m\n\u001b[1;32m    335\u001b[0m                     \u001b[0;32melse\u001b[0m\u001b[0;34m:\u001b[0m\u001b[0;34m\u001b[0m\u001b[0;34m\u001b[0m\u001b[0m\n\u001b[1;32m    336\u001b[0m                         \u001b[0mself\u001b[0m\u001b[0;34m.\u001b[0m\u001b[0mteach\u001b[0m\u001b[0;34m(\u001b[0m\u001b[0;34m)\u001b[0m\u001b[0;34m\u001b[0m\u001b[0;34m\u001b[0m\u001b[0m\n\u001b[0;32m--> 337\u001b[0;31m                     \u001b[0mres\u001b[0m\u001b[0;34m[\u001b[0m\u001b[0maf\u001b[0m\u001b[0;34m.\u001b[0m\u001b[0mname\u001b[0m\u001b[0;34m]\u001b[0m\u001b[0;34m[\u001b[0m\u001b[0mi\u001b[0m\u001b[0;34m]\u001b[0m \u001b[0;34m=\u001b[0m \u001b[0mself\u001b[0m\u001b[0;34m.\u001b[0m\u001b[0mscore\u001b[0m\u001b[0;34m(\u001b[0m\u001b[0mmetric\u001b[0m\u001b[0;34m=\u001b[0m\u001b[0mmetric\u001b[0m\u001b[0;34m)\u001b[0m\u001b[0;34m\u001b[0m\u001b[0;34m\u001b[0m\u001b[0m\n\u001b[0m\u001b[1;32m    338\u001b[0m                     \u001b[0mself\u001b[0m\u001b[0;34m.\u001b[0m\u001b[0mcurrent_step\u001b[0m \u001b[0;34m+=\u001b[0m \u001b[0;36m1\u001b[0m\u001b[0;34m\u001b[0m\u001b[0;34m\u001b[0m\u001b[0m\n\u001b[1;32m    339\u001b[0m         \u001b[0mself\u001b[0m\u001b[0;34m.\u001b[0m\u001b[0msimulation_results\u001b[0m \u001b[0;34m=\u001b[0m \u001b[0mres\u001b[0m\u001b[0;34m\u001b[0m\u001b[0;34m\u001b[0m\u001b[0m\n",
      "\u001b[0;32m~/Desktop/asbe/asbe/base.py\u001b[0m in \u001b[0;36mscore\u001b[0;34m(self, metric)\u001b[0m\n\u001b[1;32m    304\u001b[0m         \u001b[0;32mif\u001b[0m \u001b[0mmetric\u001b[0m \u001b[0;34m==\u001b[0m \u001b[0;34m\"PEHE\"\u001b[0m\u001b[0;34m:\u001b[0m\u001b[0;34m\u001b[0m\u001b[0;34m\u001b[0m\u001b[0m\n\u001b[1;32m    305\u001b[0m             \u001b[0;32mtry\u001b[0m\u001b[0;34m:\u001b[0m\u001b[0;34m\u001b[0m\u001b[0;34m\u001b[0m\u001b[0m\n\u001b[0;32m--> 306\u001b[0;31m                 \u001b[0msc\u001b[0m \u001b[0;34m=\u001b[0m \u001b[0mnp\u001b[0m\u001b[0;34m.\u001b[0m\u001b[0msqrt\u001b[0m\u001b[0;34m(\u001b[0m\u001b[0mnp\u001b[0m\u001b[0;34m.\u001b[0m\u001b[0mmean\u001b[0m\u001b[0;34m(\u001b[0m\u001b[0mnp\u001b[0m\u001b[0;34m.\u001b[0m\u001b[0msquare\u001b[0m\u001b[0;34m(\u001b[0m\u001b[0mpreds\u001b[0m \u001b[0;34m-\u001b[0m \u001b[0mself\u001b[0m\u001b[0;34m.\u001b[0m\u001b[0mdataset\u001b[0m\u001b[0;34m[\u001b[0m\u001b[0;34m\"ite_test\"\u001b[0m\u001b[0;34m]\u001b[0m\u001b[0;34m)\u001b[0m\u001b[0;34m)\u001b[0m\u001b[0;34m)\u001b[0m\u001b[0;34m\u001b[0m\u001b[0;34m\u001b[0m\u001b[0m\n\u001b[0m\u001b[1;32m    307\u001b[0m             \u001b[0;32mexcept\u001b[0m \u001b[0mKeyError\u001b[0m\u001b[0;34m:\u001b[0m\u001b[0;34m\u001b[0m\u001b[0;34m\u001b[0m\u001b[0m\n\u001b[1;32m    308\u001b[0m                 \u001b[0;32mraise\u001b[0m \u001b[0mError\u001b[0m\u001b[0;34m(\u001b[0m\u001b[0;34m\"Check if dataset contains true ITE values\"\u001b[0m\u001b[0;34m)\u001b[0m\u001b[0;34m\u001b[0m\u001b[0;34m\u001b[0m\u001b[0m\n",
      "\u001b[0;32m~/Desktop/asbe/asbe/base.py\u001b[0m in \u001b[0;36m__getitem__\u001b[0;34m(self, key)\u001b[0m\n\u001b[1;32m    408\u001b[0m \u001b[0;34m\u001b[0m\u001b[0m\n\u001b[1;32m    409\u001b[0m     \u001b[0;32mdef\u001b[0m \u001b[0m__getitem__\u001b[0m\u001b[0;34m(\u001b[0m\u001b[0mself\u001b[0m\u001b[0;34m,\u001b[0m \u001b[0mkey\u001b[0m\u001b[0;34m)\u001b[0m\u001b[0;34m:\u001b[0m\u001b[0;34m\u001b[0m\u001b[0;34m\u001b[0m\u001b[0m\n\u001b[0;32m--> 410\u001b[0;31m         \u001b[0;32mreturn\u001b[0m \u001b[0msuper\u001b[0m\u001b[0;34m(\u001b[0m\u001b[0;34m)\u001b[0m\u001b[0;34m.\u001b[0m\u001b[0m__getattribute__\u001b[0m\u001b[0;34m(\u001b[0m\u001b[0mkey\u001b[0m\u001b[0;34m)\u001b[0m\u001b[0;34m\u001b[0m\u001b[0;34m\u001b[0m\u001b[0m\n\u001b[0m\u001b[1;32m    411\u001b[0m \u001b[0;34m\u001b[0m\u001b[0m\n\u001b[1;32m    412\u001b[0m     \u001b[0;32mdef\u001b[0m \u001b[0mget_X\u001b[0m\u001b[0;34m(\u001b[0m\u001b[0mself\u001b[0m\u001b[0;34m,\u001b[0m \u001b[0mmethod\u001b[0m \u001b[0;34m:\u001b[0m \u001b[0mstr\u001b[0m \u001b[0;34m=\u001b[0m \u001b[0;34m\"random\"\u001b[0m\u001b[0;34m,\u001b[0m \u001b[0mno_query\u001b[0m \u001b[0;34m:\u001b[0m \u001b[0mint\u001b[0m \u001b[0;34m=\u001b[0m \u001b[0;36m1\u001b[0m\u001b[0;34m)\u001b[0m\u001b[0;34m:\u001b[0m\u001b[0;34m\u001b[0m\u001b[0;34m\u001b[0m\u001b[0m\n",
      "\u001b[0;31mAttributeError\u001b[0m: 'BaseDataGenerator' object has no attribute 'ite_test'"
     ]
    }
   ],
   "source": [
    "# asl.simulate(metric=\"PEHE\") scores is needed!!"
   ]
  },
  {
   "cell_type": "code",
   "execution_count": null,
   "id": "8bf7131f",
   "metadata": {},
   "outputs": [],
   "source": []
  }
 ],
 "metadata": {
  "kernelspec": {
   "display_name": "Python 3",
   "language": "python",
   "name": "python3"
  }
 },
 "nbformat": 4,
 "nbformat_minor": 5
}
