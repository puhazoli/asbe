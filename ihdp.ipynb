{
 "cells": [
  {
   "cell_type": "code",
   "execution_count": null,
   "metadata": {},
   "outputs": [
    {
     "name": "stderr",
     "output_type": "stream",
     "text": [
      "/opt/anaconda3/lib/python3.7/site-packages/dask/dataframe/utils.py:14: FutureWarning: pandas.util.testing is deprecated. Use the functions in the public API at pandas.testing instead.\n",
      "  import pandas.util.testing as tm\n"
     ]
    }
   ],
   "source": [
    "from asbe.base import *\n",
    "from asbe.models import *\n",
    "from asbe.estimators import *\n",
    "import pandas as pd\n",
    "import numpy as np\n",
    "from openbt.openbt import OPENBT\n",
    "from sklearn.ensemble import RandomForestRegressor\n",
    "from sklearn.linear_model import LinearRegression, LogisticRegression\n",
    "from sklearn.model_selection import train_test_split\n",
    "from copy import deepcopy\n",
    "import econml"
   ]
  },
  {
   "cell_type": "code",
   "execution_count": null,
   "metadata": {},
   "outputs": [],
   "source": [
    "df = pd.read_csv(\n",
    "    \"https://raw.githubusercontent.com/AMLab-Amsterdam/CEVAE/master/datasets/IHDP/csv/ihdp_npci_1.csv\",\n",
    "    names = [\"treatment\", \"y_factual\", \"y_cfactual\", \"mu0\", \"mu1\"] + [f'x{x}' for x in range(25)])"
   ]
  },
  {
   "cell_type": "code",
   "execution_count": null,
   "metadata": {},
   "outputs": [],
   "source": [
    "X = df.loc[:,\"x0\":].to_numpy()\n",
    "t = df[\"treatment\"].to_numpy()\n",
    "#t = np.zeros_like(t)\n",
    "y = df[\"y_factual\"].to_numpy()\n",
    "y1 = np.where(df[\"treatment\"] == 1,\n",
    "               df['y_factual'],\n",
    "               df['y_cfactual'])\n",
    "y0 = np.where(df[\"treatment\"] == 0,\n",
    "               df['y_factual'],\n",
    "               df['y_cfactual'])\n",
    "ite = np.where(df[\"treatment\"] == 1,\n",
    "               df['y_factual'] - df[\"y_cfactual\"],\n",
    "               df['y_cfactual'] - df[\"y_factual\"])"
   ]
  },
  {
   "cell_type": "code",
   "execution_count": null,
   "metadata": {},
   "outputs": [],
   "source": [
    "X_train, X_test, t_train, t_test, y_train, y_test, ite_train, ite_test, y1_train, y1_test, y0_train, y0_test = train_test_split(\n",
    "    X, t, y, ite, y1, y0,  test_size=0.9, random_state=1005)\n",
    "ds = {\"X_training\": X_train,\n",
    "     \"y_training\": y_train,\n",
    "     \"t_training\": t_train,\n",
    "     \"X_pool\": deepcopy(X_test), \n",
    "     \"y_pool\": deepcopy(y_test),\n",
    "     \"t_pool\": deepcopy(t_test),\n",
    "     \"y1_pool\": y1_test,\n",
    "     \"y0_pool\":y0_test,\n",
    "     \"X_test\": X_test,\n",
    "     \"y_test\": y_test,\n",
    "      \"t_test\": t_test,\n",
    "      \"ite_test\": ite_test\n",
    "     }\n",
    "asl = BaseActiveLearner(estimator = BaseITEEstimator(model = RandomForestRegressor(),\n",
    "                                         two_model=False,ps_model=None),\n",
    "                        acquisition_function=RandomAcquisitionFunction(),\n",
    "                        assignment_function=MajorityAssignmentFunction(),\n",
    "                        stopping_function = None,\n",
    "                        dataset=ds)"
   ]
  },
  {
   "cell_type": "code",
   "execution_count": null,
   "metadata": {},
   "outputs": [
    {
     "name": "stdout",
     "output_type": "stream",
     "text": [
      "[3.59742915 3.16862861 3.14697116 3.17384683 3.25810398 2.964646\n",
      " 3.89935253 3.56663741 1.48758712 3.86585774 1.60327876 4.50690703\n",
      " 3.68481651 1.70743395 2.62708806 4.03307811 0.66017412 3.1987421\n",
      " 3.43168311 0.91882498 4.30285053 3.58729401 3.40733028 3.77401418\n",
      " 4.14909976 2.23346215 4.40683687 3.86772822 1.75282784 3.06400544\n",
      " 4.45583143 3.46696957 4.87554688 2.83682842 1.75456744 4.57731933\n",
      " 2.52758491 3.63968939 2.19171436 4.06442213 4.02012336 2.1001374\n",
      " 5.06544685 3.10472589 4.00783396 3.97573757 4.58127209 2.86521353\n",
      " 2.9596649  4.07109203 5.10350592 4.41841313 2.21861243 3.63404224\n",
      " 4.1710471  2.96595387 3.6794684  3.81504469 2.63768511 4.3403089\n",
      " 2.72542292 0.92663386 3.09917078 0.61005313 4.18845563 3.36730817\n",
      " 2.65694534 3.10077671 3.05508198 2.60418499 3.82394059 2.52972118\n",
      " 2.95552328 1.74917622 2.1526982  1.87392963 3.61116822 3.27873219\n",
      " 1.72937344 2.54490522 3.1209124  1.76690179 1.06111346 4.03493186\n",
      " 2.72239143 3.89480998 2.48019905 0.86758009 4.01914485 4.22828959\n",
      " 4.23476685 4.89878844 4.26633445 4.27841469 2.80667763 3.52300751\n",
      " 4.32190027 4.09470586 0.22972268 3.66979475 4.93890988 2.95658197\n",
      " 3.1888367  4.18276679 4.55114524 1.58793696 3.10935952 3.55382853\n",
      " 2.4677415  2.69432669 2.77019136 2.04873495 1.27464042 1.57056562\n",
      " 2.19284784 1.52288739 3.80170698 3.98819125 3.8214006  3.86585104\n",
      " 3.56584279 3.08218868 2.28350674 3.00824041 3.11537093 4.15778678\n",
      " 3.09966307 2.03570139 3.48642816 2.92540411 2.95368589 3.14814638\n",
      " 3.44718206 2.14152793 3.90091369 3.23054588 2.87708714 2.83974602\n",
      " 4.9266826  4.06734358 2.81871074 3.94501902 2.65317791 2.02066094\n",
      " 1.56805193 2.85016505 2.92815575 3.69767863 3.8243693  4.27662199\n",
      " 3.30069317 3.55291198 3.82110484 2.31687665 3.86373584 0.7615369\n",
      " 2.82286048 1.1251713  4.34430528 3.25351561 3.7998271  3.22727468\n",
      " 5.38922497 3.00586767 1.71132617 3.57709646 1.37936653 3.561798\n",
      " 3.90221679 2.48705715 2.18204965 3.66673959 2.8316262  4.39734071\n",
      " 1.09035579 2.63007264 3.6404201  3.57259266 3.12011786 4.13130294\n",
      " 4.57706577 0.72321857 3.90345514 3.1389806  3.92309915 4.88033306\n",
      " 1.84182599 4.38470165 1.10217297 2.52200565 3.66014869 3.71613503\n",
      " 3.23528445 2.34382461 2.21946006 2.5207937  0.69318021 2.75392268\n",
      " 3.78437556 3.51257966 2.44967839 3.67310312 3.70320214 1.08343767\n",
      " 3.83867732 3.63132501 1.77604491 2.03915838 5.22701706 3.42107974\n",
      " 3.21638267 2.37839187 2.96772329 4.01117437 3.43855705 3.6374241\n",
      " 4.08380351 2.48038931 4.13119704 3.95345296 1.96792746 4.13973992\n",
      " 1.83938276 1.7799579  5.09532645 3.11609762 3.28499689 1.91295615\n",
      " 4.05606282 4.46082056 1.92544162 2.71609539 4.31170265 2.31349451\n",
      " 3.19048502 4.04090983 0.94741243 3.077057   3.12851016 2.87972944\n",
      " 4.66907744 3.65002882 3.55277011 3.47194515 2.08934772 3.73221615\n",
      " 3.97594888 4.34438672 2.6012407  3.16800898 2.48611116 2.11068474\n",
      " 3.58355149 3.66853125 2.32362904 3.55831451 3.72255893 3.35183784\n",
      " 4.79445812 4.44741891 2.94610058 3.23008918 4.65261608 3.51412949\n",
      " 2.95868863 4.84712635 4.56988953 3.47804093 2.95855499 2.32823531\n",
      " 4.0980641  4.41725253 4.41481216 1.83521743 3.88028232 3.31322054\n",
      " 1.67559367 3.88359109 2.23533428 1.85714133 3.4492332  2.83350875\n",
      " 3.75949568 2.86415108 4.08965222 1.70273927 3.71459689 1.74014411\n",
      " 3.83646621 3.96161152 0.33834839 3.20358742 3.51684509 2.92497083\n",
      " 4.0895141  4.40461015 4.27285723 3.50037514 3.55483042 3.86844491\n",
      " 2.4872966  2.34309207 3.39173303 2.66479274 3.02589169 2.82001357\n",
      " 2.98824808 3.11080099 4.54381238 2.87182152 4.91001806 2.25726566\n",
      " 3.72582566 3.54913547 3.76987823 3.54947442 2.39806093 2.84489057\n",
      " 3.1072393  3.11999393 2.2210917  3.43617405 4.16423618 4.17697414\n",
      " 2.42933252 2.84883903 3.24872054 3.58374391 3.82355841 2.51581331\n",
      " 3.6673612  2.95215037 4.30473743 2.30310782 3.3933295  4.18719279\n",
      " 1.96004543 2.66046103 3.12939042 2.05839986 5.30394406 3.84907063\n",
      " 4.92052555 3.31060396 2.4532826  3.49122075 4.15402163 4.48035549\n",
      " 1.34376544 1.77480692 3.75692766 3.14266896 2.39728729 3.75980091\n",
      " 3.51382736 3.38874539 3.02213409 3.58468062 5.18545588 3.35990611\n",
      " 3.38006143 4.92314372 2.17559227 2.11232181 4.59362964 3.4966608\n",
      " 3.30158578 4.77411945 2.43563676 1.85401976 3.94858544 2.65430731\n",
      " 3.29778387 4.20870066 3.77177496 3.12341524 3.02142877 2.24971459\n",
      " 1.81764601 2.56770344 3.99595886 0.54026479 2.75221964 2.71410229\n",
      " 3.42898691 1.57566516 2.95584734 3.22650646 4.26526433 2.95257649\n",
      " 3.96738943 3.72603267 3.12554428 2.20687309 4.39952523 2.68902364\n",
      " 2.11090883 4.34219521 3.96703613 2.71977421 3.34400148 3.12833127\n",
      " 5.17059332 2.32906888 2.04716283 3.65088434 1.66491636 1.99185746\n",
      " 3.76092063 3.99040262 3.19248017 4.64407893 2.2695325  1.25916157\n",
      " 3.54760654 1.89518204 2.03298479 1.51256281 1.51244312 2.87698984\n",
      " 3.47858052 1.07494333 3.45280954 2.83437533 4.13814077 2.81162378\n",
      " 4.25935435 3.0976493  3.21567535 2.02565187 3.79957149 0.95350374\n",
      " 2.9182789  2.48609263 4.48580888 2.93585042 4.08589385 2.62749195\n",
      " 3.87426148 1.97182873 2.10105391 3.78149868 2.73473897 2.7064883\n",
      " 2.74979463 3.18556254 3.05645409 3.00234754 3.66396438 4.2046157\n",
      " 3.65210105 2.34549532 3.88840668 3.98235647 2.530094   3.69029397\n",
      " 3.85919049 2.991518   2.35838936 3.96473177 5.12749046 4.51174843\n",
      " 3.69481973 3.0788029  2.71489622 3.04189524 3.55957209 3.0317831\n",
      " 5.23636585 4.45501127 3.71571304 4.27032096 2.78646069 2.74849946\n",
      " 2.4556751  4.67127022 3.74672442 2.03426749 4.52366522 3.4685579\n",
      " 4.22022825 5.2139243  2.40266712 3.75797265 3.72163962 4.05635195\n",
      " 3.4842431  4.5290093  4.40834447 1.76322982 2.9157289  2.6698065\n",
      " 3.59391628 2.4967848  3.4253736  1.82056764 1.65127239 3.60144422\n",
      " 3.33646607 1.98219302 3.15091461 3.07352864 2.23243818 2.52775884\n",
      " 3.97926768 2.57670694 1.05512243 2.61732693 3.56934385 1.51616416\n",
      " 1.79958352 1.86403767 3.8472255  3.51535307 2.20904249 3.80052147\n",
      " 3.83655819 4.32205389 3.18977987 2.61886651 2.90384824 2.36013967\n",
      " 3.63688149 4.18045661 3.09852368 3.90569382 3.75818358 3.55028707\n",
      " 4.20365771 2.44305932 4.16079963 2.50031092 5.26592792 1.42899572\n",
      " 4.08455822 4.44292129 2.88206023 3.56880429 3.77120506 3.71061829\n",
      " 2.49402303 1.8577112  3.7492884  4.33039313 3.72082156 1.84221443\n",
      " 3.65070057 2.65287018 3.0059819  2.21722883 3.88921963 4.07986827\n",
      " 2.67548684 2.2566771  3.51227066 2.67332505 4.22258194 3.37593698\n",
      " 1.7340463  4.96424529 3.76297487 1.99995446 1.98758728 1.6882338\n",
      " 2.61475488 3.71712318 1.11898122 2.0308488  3.94055714 3.67589587\n",
      " 4.25448641 3.66515966 4.40888395 2.28770274 3.68214561 4.54920999\n",
      " 2.84308075 3.49740886 3.07507779 1.43903361 4.33880759 3.94857355\n",
      " 4.41228553 4.38755094 3.01167497 1.93823787 1.49295032 4.4029093\n",
      " 4.13859648 3.74019526 4.13725312 4.45643133 4.10828092 4.06541925\n",
      " 2.017123   2.50450261 4.27389977 1.83947869 2.23468878 4.16311122\n",
      " 2.95923585 2.47773521 2.82768422 4.12649826 4.39591559 4.34298645\n",
      " 3.05129863 3.28425578 4.32896864 3.77451799 3.70486084 3.14885067\n",
      " 3.17033242 2.57215475 2.24000741 4.25147083 4.40866187 4.11140241\n",
      " 3.00904228 1.75051499 1.81885721 3.78256374 1.68290605 2.91412126\n",
      " 4.29639146 2.11157052 5.13363221 2.17972639 2.67239949 3.32385924\n",
      " 3.62115104 1.85040408 3.09913362 3.89455864 2.00830689 5.41777764\n",
      " 4.84705386 1.05601389 4.39776137 4.2536817  3.63950065 1.83902297\n",
      " 3.33044867 2.5732008  4.33564902 3.55360571 3.17017526 3.84426646\n",
      " 3.82373978 2.78449528 3.99505714 4.12582576 2.75052537 0.91705742\n",
      " 2.93734219 3.09345218 1.8074827  3.54026869 2.54570454 4.07302649\n",
      " 3.32096793 1.37365161 3.80767902 2.88239975 4.41490918 1.56469783\n",
      " 3.29551497 3.45166163 2.84466294 4.69896916 3.55278355 0.83207177\n",
      " 3.41010364]\n"
     ]
    },
    {
     "data": {
      "image/png": "[encoded data removed]",
      "text/latex": [
       "$\\displaystyle 1.7763602689872018$"
      ],
      "text/plain": [
       "1.7763602689872018"
      ]
     },
     "execution_count": null,
     "metadata": {},
     "output_type": "execute_result"
    }
   ],
   "source": [
    "asl.fit()\n",
    "X_new, query_idx = asl.query(no_query=120)\n",
    "asl.teach(query_idx)\n",
    "preds = asl.predict(asl.dataset[\"X_test\"])\n",
    "asl.score()"
   ]
  },
  {
   "cell_type": "code",
   "execution_count": null,
   "metadata": {},
   "outputs": [
    {
     "name": "stdout",
     "output_type": "stream",
     "text": [
      "Overwriting k to agree with the model's default\n",
      "Overwriting overallnu to agree with the model's default\n",
      "Overwriting ntree to agree with the model's default\n",
      "Overwriting ntreeh to agree with the model's default\n",
      "Overwriting overallsd to agree with the model's default\n",
      "Writing config file and data\n",
      "/var/folders/44/gtm_t6x110jg6b13p4rbwkfh0000gn/T/openbtpy_w75piihg\n",
      "3+ x variables\n",
      "Running model...\n",
      "(673, 1000)\n"
     ]
    }
   ],
   "source": [
    "bite = OPENBTITEEstimator(model=OPENBT(model=\"bart\"),\n",
    "                          two_model = False,\n",
    "                          ps_model  = None,\n",
    "                          dataset   = ds)\n",
    "bite.fit()\n",
    "preds_obt = bite.predict(X = ds[\"X_test\"])\n",
    "print(preds_obt.shape)"
   ]
  },
  {
   "cell_type": "code",
   "execution_count": null,
   "metadata": {},
   "outputs": [],
   "source": [
    "bite = CausalForestEstimator(\n",
    "                        two_model = None,\n",
    "                        ps_model  = None,\n",
    "                        dataset   = ds)\n",
    "bite.fit()\n",
    "preds_cf = bite.predict(X = ds[\"X_test\"])"
   ]
  },
  {
   "cell_type": "code",
   "execution_count": null,
   "metadata": {},
   "outputs": [
    {
     "name": "stderr",
     "output_type": "stream",
     "text": [
      "INFO \t Training with 1 minibatches per epoch\n",
      "DEBUG \t step     0 loss = 51.6576\n",
      "INFO \t Evaluating 7 minibatches\n",
      "DEBUG \t batch ate = 1.4456\n",
      "DEBUG \t batch ate = 1.55399\n",
      "DEBUG \t batch ate = 1.53096\n",
      "DEBUG \t batch ate = 1.66902\n",
      "DEBUG \t batch ate = 1.54256\n",
      "DEBUG \t batch ate = 1.72028\n",
      "DEBUG \t batch ate = 1.73469\n"
     ]
    }
   ],
   "source": [
    "cite = CEVAEEstimator(dataset=ds,two_model=None)\n",
    "cite.fit()\n",
    "preds_ce = cite.predict(X=ds[\"X_test\"])"
   ]
  },
  {
   "cell_type": "code",
   "execution_count": null,
   "metadata": {},
   "outputs": [],
   "source": []
  }
 ],
 "metadata": {
  "kernelspec": {
   "display_name": "Python 3",
   "language": "python",
   "name": "python3"
  }
 },
 "nbformat": 4,
 "nbformat_minor": 4
}
