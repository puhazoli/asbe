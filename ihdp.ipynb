{
 "cells": [
  {
   "cell_type": "code",
   "execution_count": null,
   "metadata": {},
   "outputs": [],
   "source": [
    "from asbe.base import *\n",
    "from asbe.models import *\n",
    "from asbe.estimators import *\n",
    "import pandas as pd\n",
    "import numpy as np\n",
    "from openbt.openbt import OPENBT\n",
    "from sklearn.ensemble import RandomForestRegressor\n",
    "# from sklearn.linear_model import LinearRegression, LogisticRegression\n",
    "from sklearn.model_selection import train_test_split\n",
    "from copy import deepcopy\n",
    "from sklearn.gaussian_process.kernels import ConstantKernel, RBF\n",
    "from sklearn.gaussian_process import GaussianProcessRegressor\n",
    "# import econml\n",
    "# from sklearn.base import BaseEstimator"
   ]
  },
  {
   "cell_type": "code",
   "execution_count": null,
   "metadata": {},
   "outputs": [],
   "source": [
    "df = pd.read_csv(\n",
    "    \"https://raw.githubusercontent.com/AMLab-Amsterdam/CEVAE/master/datasets/IHDP/csv/ihdp_npci_1.csv\",\n",
    "    names = [\"treatment\", \"y_factual\", \"y_cfactual\", \"mu0\", \"mu1\"] + [f'x{x}' for x in range(25)])\n",
    "\n",
    "X = df.loc[:,\"x0\":].to_numpy()\n",
    "t = df[\"treatment\"].to_numpy()\n",
    "#t = np.zeros_like(t)\n",
    "y = df[\"y_factual\"].to_numpy()\n",
    "y1 = np.where(df[\"treatment\"] == 1,\n",
    "               df['y_factual'],\n",
    "               df['y_cfactual'])\n",
    "y0 = np.where(df[\"treatment\"] == 0,\n",
    "               df['y_factual'],\n",
    "               df['y_cfactual'])\n",
    "ite = np.where(df[\"treatment\"] == 1,\n",
    "               df['y_factual'] - df[\"y_cfactual\"],\n",
    "               df['y_cfactual'] - df[\"y_factual\"])"
   ]
  },
  {
   "cell_type": "code",
   "execution_count": null,
   "metadata": {},
   "outputs": [],
   "source": [
    "X_train, X_test, t_train, t_test, y_train, y_test, ite_train, ite_test, y1_train, y1_test, y0_train, y0_test = train_test_split(\n",
    "    X, t, y, ite, y1, y0,  test_size=0.9, random_state=1005)\n",
    "ds = {\"X_training\": X_train,\n",
    "     \"y_training\": y_train,\n",
    "     \"t_training\": t_train,\n",
    "     \"X_pool\": deepcopy(X_test), \n",
    "     \"y_pool\": deepcopy(y_test),\n",
    "     \"t_pool\": deepcopy(t_test),\n",
    "     \"y1_pool\": y1_test,\n",
    "     \"y0_pool\":y0_test,\n",
    "     \"X_test\": X_test,\n",
    "     \"y_test\": y_test,\n",
    "      \"t_test\": t_test,\n",
    "      \"ite_test\": ite_test\n",
    "     }\n",
    "asl = BaseActiveLearner(estimator = BaseITEEstimator(model = RandomForestRegressor(),\n",
    "                                         two_model=False,ps_model=None),\n",
    "                        acquisition_function=RandomAcquisitionFunction(),\n",
    "                        assignment_function=MajorityAssignmentFunction(),\n",
    "                        stopping_function = None,\n",
    "                        dataset=ds)"
   ]
  },
  {
   "cell_type": "code",
   "execution_count": null,
   "metadata": {},
   "outputs": [
    {
     "data": {
      "image/png": "[encoded data removed]",
      "text/latex": [
       "$\\displaystyle 1.777670429952744$"
      ],
      "text/plain": [
       "1.777670429952744"
      ]
     },
     "execution_count": null,
     "metadata": {},
     "output_type": "execute_result"
    }
   ],
   "source": [
    "asl.fit()\n",
    "X_new, query_idx = asl.query(no_query=120)\n",
    "asl.teach(query_idx)\n",
    "preds = asl.predict(asl.dataset[\"X_test\"])\n",
    "asl.score()"
   ]
  },
  {
   "cell_type": "code",
   "execution_count": null,
   "metadata": {},
   "outputs": [
    {
     "name": "stdout",
     "output_type": "stream",
     "text": [
      "Overwriting k to agree with the model's default\n",
      "Overwriting overallnu to agree with the model's default\n",
      "Overwriting ntree to agree with the model's default\n",
      "Overwriting ntreeh to agree with the model's default\n",
      "Overwriting overallsd to agree with the model's default\n",
      "Writing config file and data\n",
      "/var/folders/44/gtm_t6x110jg6b13p4rbwkfh0000gn/T/openbtpy_86162gw9\n",
      "3+ x variables\n",
      "Running model...\n"
     ]
    }
   ],
   "source": [
    "bite = OPENBTITEEstimator(model=OPENBT(model=\"bart\"),\n",
    "                          two_model = False,\n",
    "                          ps_model  = None,\n",
    "                          dataset   = ds)\n",
    "bite.fit()\n",
    "preds_obt = bite.predict(X = ds[\"X_test\"])\n",
    "#print(preds_obt.shape)"
   ]
  },
  {
   "cell_type": "code",
   "execution_count": null,
   "metadata": {},
   "outputs": [],
   "source": [
    "bite = CausalForestEstimator(\n",
    "                        two_model = None,\n",
    "                        ps_model  = None,\n",
    "                        dataset   = ds)\n",
    "bite.fit()\n",
    "preds_cf = bite.predict(X = ds[\"X_test\"])"
   ]
  },
  {
   "cell_type": "code",
   "execution_count": null,
   "metadata": {},
   "outputs": [
    {
     "name": "stderr",
     "output_type": "stream",
     "text": [
      "INFO \t Training with 1 minibatches per epoch\n",
      "DEBUG \t step     0 loss = 51.8192\n",
      "INFO \t Evaluating 7 minibatches\n",
      "DEBUG \t batch ate = 1.44438\n",
      "DEBUG \t batch ate = 1.41592\n",
      "DEBUG \t batch ate = 1.41316\n",
      "DEBUG \t batch ate = 1.52459\n",
      "DEBUG \t batch ate = 1.4511\n",
      "DEBUG \t batch ate = 1.43276\n",
      "DEBUG \t batch ate = 1.68415\n"
     ]
    }
   ],
   "source": [
    "cite = CEVAEEstimator(dataset=ds,two_model=None)\n",
    "cite.fit()\n",
    "preds_ce = cite.predict(X=ds[\"X_test\"])"
   ]
  },
  {
   "cell_type": "code",
   "execution_count": null,
   "metadata": {},
   "outputs": [],
   "source": []
  },
  {
   "cell_type": "code",
   "execution_count": null,
   "metadata": {},
   "outputs": [],
   "source": [
    "gite = GPEstimator(model=GaussianProcessRegressor(),\n",
    "                          two_model = True,\n",
    "                          ps_model  = None,\n",
    "                          dataset   = ds)\n",
    "gite.fit()\n",
    "preds_gp = gite.predict(X = ds[\"X_test\"])"
   ]
  },
  {
   "cell_type": "code",
   "execution_count": null,
   "metadata": {},
   "outputs": [],
   "source": [
    "# blr = BLREstimator(two_model=False, ps_model = None, dataset=ds)\n",
    "# \n",
    "# blr.fit()\n",
    "# \n",
    "# blr.predict(X=ds[\"X_test\"])"
   ]
  },
  {
   "cell_type": "code",
   "execution_count": null,
   "metadata": {},
   "outputs": [],
   "source": []
  }
 ],
 "metadata": {
  "kernelspec": {
   "display_name": "Python 3",
   "language": "python",
   "name": "python3"
  }
 },
 "nbformat": 4,
 "nbformat_minor": 4
}
