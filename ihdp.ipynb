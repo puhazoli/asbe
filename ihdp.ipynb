{
 "cells": [
  {
   "cell_type": "code",
   "execution_count": null,
   "metadata": {},
   "outputs": [
    {
     "name": "stderr",
     "output_type": "stream",
     "text": [
      "/opt/anaconda3/lib/python3.7/site-packages/dask/dataframe/utils.py:14: FutureWarning: pandas.util.testing is deprecated. Use the functions in the public API at pandas.testing instead.\n",
      "  import pandas.util.testing as tm\n"
     ]
    }
   ],
   "source": [
    "from asbe.base import *\n",
    "from asbe.models import *"
   ]
  },
  {
   "cell_type": "code",
   "execution_count": null,
   "metadata": {},
   "outputs": [],
   "source": [
    "import pandas as pd\n",
    "import numpy as np\n",
    "from sklearn.ensemble import RandomForestRegressor\n",
    "from sklearn.linear_model import LinearRegression, LogisticRegression\n",
    "from sklearn.model_selection import train_test_split\n",
    "from copy import deepcopy\n",
    "import econml"
   ]
  },
  {
   "cell_type": "code",
   "execution_count": null,
   "metadata": {},
   "outputs": [],
   "source": [
    "df = pd.read_csv(\n",
    "    \"https://raw.githubusercontent.com/AMLab-Amsterdam/CEVAE/master/datasets/IHDP/csv/ihdp_npci_1.csv\",\n",
    "    names = [\"treatment\", \"y_factual\", \"y_cfactual\", \"mu0\", \"mu1\"] + [f'x{x}' for x in range(25)])"
   ]
  },
  {
   "cell_type": "code",
   "execution_count": null,
   "metadata": {},
   "outputs": [],
   "source": [
    "X = df.loc[:,\"x0\":].to_numpy()\n",
    "t = df[\"treatment\"].to_numpy()\n",
    "#t = np.zeros_like(t)\n",
    "y = df[\"y_factual\"].to_numpy()\n",
    "y1 = np.where(df[\"treatment\"] == 1,\n",
    "               df['y_factual'],\n",
    "               df['y_cfactual'])\n",
    "y0 = np.where(df[\"treatment\"] == 0,\n",
    "               df['y_factual'],\n",
    "               df['y_cfactual'])\n",
    "ite = np.where(df[\"treatment\"] == 1,\n",
    "               df['y_factual'] - df[\"y_cfactual\"],\n",
    "               df['y_cfactual'] - df[\"y_factual\"])"
   ]
  },
  {
   "cell_type": "code",
   "execution_count": null,
   "metadata": {},
   "outputs": [
    {
     "name": "stdout",
     "output_type": "stream",
     "text": [
      "preparing data\n",
      "Before the fitting\n",
      "after\n"
     ]
    },
    {
     "data": {
      "text/plain": [
       "1.7246574547781737"
      ]
     },
     "execution_count": null,
     "metadata": {},
     "output_type": "execute_result"
    }
   ],
   "source": [
    "X_train, X_test, t_train, t_test, y_train, y_test, ite_train, ite_test, y1_train, y1_test, y0_train, y0_test = train_test_split(\n",
    "    X, t, y, ite, y1, y0,  test_size=0.1, random_state=1005)\n",
    "ds = {\"X_training\": X_train,\n",
    "     \"y_training\": y_train,\n",
    "     \"t_training\": t_train,\n",
    "     \"X_pool\": deepcopy(X_test), \n",
    "     \"y_pool\": deepcopy(y_test),\n",
    "     \"t_pool\": deepcopy(t_test),\n",
    "     \"y1_pool\": y1_test,\n",
    "     \"y0_pool\":y0_test,\n",
    "     \"X_test\": X_test,\n",
    "     \"y_test\": y_test,\n",
    "      \"t_test\": t_test,\n",
    "      \"ite_test\": ite_test\n",
    "     }\n",
    "asl = BaseActiveLearner(estimator = BaseITEEstimator(model = RandomForestRegressor(),\n",
    "                                         two_model=False),\n",
    "                        acquisition_function=RandomAcquisitionFunction(),\n",
    "                        assignment_function=MajorityAssignmentFunction(),\n",
    "                        stopping_function = None,\n",
    "                        dataset=ds)\n",
    "asl.fit()\n",
    "X_new, query_idx = asl.query(no_query=120)\n",
    "asl.teach(query_idx)\n",
    "preds = asl.predict(asl.dataset[\"X_test\"])\n",
    "asl.score()"
   ]
  },
  {
   "cell_type": "code",
   "execution_count": null,
   "metadata": {},
   "outputs": [],
   "source": [
    "from econml.orf import DMLOrthoForest"
   ]
  },
  {
   "cell_type": "code",
   "execution_count": null,
   "metadata": {},
   "outputs": [],
   "source": [
    "class OrthoEstimator(BaseITEEstimator):\n",
    "     \n",
    "    def fit(self, X_training=None,\n",
    "                  t_training=None,\n",
    "                  y_training=None,\n",
    "                  ps_scores=None, \n",
    "                  **kwargs):\n",
    "        print(\"do we see this?\")\n",
    "        self.model.fit(y_training, t_training, X_training, X_training)"
   ]
  },
  {
   "cell_type": "code",
   "execution_count": null,
   "metadata": {},
   "outputs": [
    {
     "ename": "TypeError",
     "evalue": "new_fit() missing 2 required positional arguments: 't_training' and 'y_training'",
     "output_type": "error",
     "traceback": [
      "\u001b[0;31m---------------------------------------------------------------------------\u001b[0m",
      "\u001b[0;31mTypeError\u001b[0m                                 Traceback (most recent call last)",
      "\u001b[0;32m<ipython-input-10-93c09f0f942a>\u001b[0m in \u001b[0;36m<module>\u001b[0;34m\u001b[0m\n\u001b[1;32m      3\u001b[0m                         \u001b[0mps_model\u001b[0m\u001b[0;34m=\u001b[0m\u001b[0;32mNone\u001b[0m\u001b[0;34m,\u001b[0m\u001b[0;34m\u001b[0m\u001b[0;34m\u001b[0m\u001b[0m\n\u001b[1;32m      4\u001b[0m                         dataset = ds)\n\u001b[0;32m----> 5\u001b[0;31m \u001b[0mbite\u001b[0m\u001b[0;34m.\u001b[0m\u001b[0mfit\u001b[0m\u001b[0;34m(\u001b[0m\u001b[0mX_training\u001b[0m\u001b[0;34m=\u001b[0m\u001b[0mds\u001b[0m\u001b[0;34m[\u001b[0m\u001b[0;34m\"X_training\"\u001b[0m\u001b[0;34m]\u001b[0m\u001b[0;34m)\u001b[0m\u001b[0;34m\u001b[0m\u001b[0;34m\u001b[0m\u001b[0m\n\u001b[0m\u001b[1;32m      6\u001b[0m \u001b[0mbite\u001b[0m\u001b[0;34m.\u001b[0m\u001b[0mpredict\u001b[0m\u001b[0;34m(\u001b[0m\u001b[0mds\u001b[0m\u001b[0;34m[\u001b[0m\u001b[0;34m\"X_test\"\u001b[0m\u001b[0;34m]\u001b[0m\u001b[0;34m)\u001b[0m\u001b[0;34m\u001b[0m\u001b[0;34m\u001b[0m\u001b[0m\n",
      "\u001b[0;31mTypeError\u001b[0m: new_fit() missing 2 required positional arguments: 't_training' and 'y_training'"
     ]
    }
   ],
   "source": [
    "bite = OrthoEstimator(model =DMLOrthoForest(),\n",
    "                        two_model=False,\n",
    "                        ps_model=None,\n",
    "                        dataset = ds)\n",
    "bite.fit(X_training=ds[\"X_training\"])\n",
    "bite.predict(ds[\"X_test\"])"
   ]
  },
  {
   "cell_type": "code",
   "execution_count": null,
   "metadata": {},
   "outputs": [],
   "source": [
    "class MetaTask(type):\n",
    "    def __init__(cls, name, bases, clsdict):\n",
    "        if 'run' in clsdict:\n",
    "            def new_run(self):\n",
    "                print('before')\n",
    "                clsdict['run'](self)\n",
    "                print('after')\n",
    "            setattr(cls, 'run', new_run)\n",
    "\n",
    "class Task(object, metaclass=MetaTask):\n",
    "    # For Python2: remove metaclass=MetaTask above and uncomment below:\n",
    "    # __metaclass__ = MetaTask\n",
    "    pass\n",
    "\n",
    "class MyTask(Task):\n",
    "    def run(self):\n",
    "        #successful override!\n",
    "        pass\n",
    "\n",
    "task = MyTask()\n",
    "task.run()"
   ]
  },
  {
   "cell_type": "code",
   "execution_count": null,
   "metadata": {},
   "outputs": [],
   "source": []
  }
 ],
 "metadata": {
  "kernelspec": {
   "display_name": "Python 3",
   "language": "python",
   "name": "python3"
  }
 },
 "nbformat": 4,
 "nbformat_minor": 4
}
