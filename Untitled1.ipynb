{
 "cells": [
  {
   "cell_type": "code",
   "execution_count": null,
   "metadata": {},
   "outputs": [
    {
     "name": "stderr",
     "output_type": "stream",
     "text": [
      "\n",
      "Bad key \"text.kerning_factor\" on line 4 in\n",
      "/opt/anaconda3/lib/python3.7/site-packages/matplotlib/mpl-data/stylelib/_classic_test_patch.mplstyle.\n",
      "You probably need to get an updated matplotlibrc file from\n",
      "https://github.com/matplotlib/matplotlib/blob/v3.1.3/matplotlibrc.template\n",
      "or from the matplotlib source distribution\n",
      "pandas.util.testing is deprecated. Use the functions in the public API at pandas.testing instead.\n"
     ]
    }
   ],
   "source": [
    "from asbe.base import *\n",
    "from asbe.models import *\n",
    "from asbe.estimators import *\n",
    "import pandas as pd\n",
    "import numpy as np\n",
    "from openbt.openbt import OPENBT\n",
    "from sklearn.ensemble import RandomForestRegressor\n",
    "# from sklearn.linear_model import LinearRegression, LogisticRegression\n",
    "from sklearn.model_selection import train_test_split\n",
    "from copy import deepcopy"
   ]
  },
  {
   "cell_type": "code",
   "execution_count": null,
   "metadata": {},
   "outputs": [
    {
     "name": "stdout",
     "output_type": "stream",
     "text": [
      "Overwriting k to agree with the model's default\n",
      "Overwriting overallnu to agree with the model's default\n",
      "Overwriting ntree to agree with the model's default\n",
      "Overwriting ntreeh to agree with the model's default\n",
      "Overwriting overallsd to agree with the model's default\n",
      "Writing config file and data\n",
      "/var/folders/44/gtm_t6x110jg6b13p4rbwkfh0000gn/T/openbtpy_l6ka9mnq\n",
      "3+ x variables\n",
      "Running model...\n"
     ]
    }
   ],
   "source": [
    "# Test Branin function, rescaled\n",
    "def braninsc (xx):\n",
    "    x1 = xx[0]\n",
    "    x2 = xx[1]\n",
    "    \n",
    "    x1bar = 15 * x1 - 5\n",
    "    x2bar = 15 * x2\n",
    "    \n",
    "    import math\n",
    "    term1 = x2bar - 5.1*x1bar**2/(4*math.pi**2) + 5*x1bar/math.pi - 6\n",
    "    term2 = (10 - 10/(8*math.pi)) * math.cos(x1bar)\n",
    "    \n",
    "    y = (term1**2 + term2 - 44.81) / 51.95\n",
    "    return(y)\n",
    "\n",
    "\n",
    "# Simulate branin data for testing\n",
    "np.random.seed(99)\n",
    "n = 15\n",
    "p = 5\n",
    "x = np.random.uniform(size=n*p).reshape(n,p)\n",
    "y = np.zeros(n)\n",
    "for i in range(n):\n",
    "    y[i] = braninsc(x[i,])\n",
    "m = OPENBT(model = \"bart\", modelname = \"branin\")\n",
    "fit = m.fit(x, y)\n",
    "\n",
    "# Calculate in-sample predictions\n",
    "fitp = m.predict(x)"
   ]
  },
  {
   "cell_type": "code",
   "execution_count": null,
   "metadata": {},
   "outputs": [
    {
     "data": {
      "text/plain": [
       "{'mdraws': array([[-0.4928629 , -0.2740517 , -0.1111204 , ..., -0.2117862 ,\n",
       "         -0.5256391 , -0.4494811 ],\n",
       "        [ 0.03476605, -0.5827406 ,  0.03261911, ..., -0.5043845 ,\n",
       "         -0.4569963 , -0.6965309 ],\n",
       "        [-0.7017374 , -0.6111303 , -0.2870108 , ..., -0.7420996 ,\n",
       "         -0.9199479 , -1.086708  ],\n",
       "        ...,\n",
       "        [-0.8538371 , -0.6665497 , -0.5032139 , ..., -0.6364815 ,\n",
       "         -0.7846043 , -0.5345635 ],\n",
       "        [ 0.03237402, -0.4409852 ,  0.08341723, ..., -0.5710157 ,\n",
       "         -0.5267229 , -0.5829008 ],\n",
       "        [-0.1820143 , -0.7430798 , -0.2382444 , ..., -0.5722828 ,\n",
       "         -0.7029733 , -1.368078  ]]),\n",
       " 'sdraws': array([[0.7373396, 0.6729354, 0.7373396, ..., 0.6729354, 0.6729354,\n",
       "         0.6729354],\n",
       "        [0.6137603, 0.6351708, 0.6137603, ..., 0.6351708, 0.6351708,\n",
       "         0.6351708],\n",
       "        [0.738513 , 0.6996082, 0.738513 , ..., 0.6996082, 0.6996082,\n",
       "         0.6996082],\n",
       "        ...,\n",
       "        [0.7001373, 0.4398417, 0.7001373, ..., 0.7001373, 0.4398417,\n",
       "         0.4398417],\n",
       "        [0.7597069, 0.53339  , 0.7597069, ..., 0.53339  , 0.53339  ,\n",
       "         0.53339  ],\n",
       "        [0.7237698, 0.3908021, 0.7237698, ..., 0.3908021, 0.3908021,\n",
       "         0.3908021]]),\n",
       " 'mmean': array([-0.2845965 , -0.54599927, -0.20305261, -0.66163756, -0.54599927,\n",
       "        -0.15251319, -0.4308025 , -0.42078191, -0.28579476, -0.3650406 ,\n",
       "        -0.3650406 , -0.3650406 , -0.5113897 , -0.53538714, -0.65539758]),\n",
       " 'smean': array([0.62854475, 0.59574165, 0.64713524, 0.58855069, 0.59574165,\n",
       "        0.64947936, 0.62393517, 0.62078095, 0.63571462, 0.63840311,\n",
       "        0.63840311, 0.63840311, 0.60431688, 0.59278889, 0.58819696]),\n",
       " 'msd': array([0.29514395, 0.26293076, 0.26830527, 0.29280219, 0.26293076,\n",
       "        0.29212013, 0.26394528, 0.28310548, 0.26926934, 0.24858916,\n",
       "        0.24858916, 0.24858916, 0.28723547, 0.29135053, 0.28586248]),\n",
       " 'ssd': array([0.12596751, 0.11486622, 0.12661106, 0.11645525, 0.11486622,\n",
       "        0.12747258, 0.12852604, 0.12141666, 0.12575477, 0.13139537,\n",
       "        0.13139537, 0.13139537, 0.11826113, 0.11499786, 0.11617495]),\n",
       " 'm_5': array([-1.01138979, -1.16763033, -0.88437862, -1.44378963, -1.16763033,\n",
       "        -0.9056039 , -1.11828706, -1.14700015, -0.97859349, -0.96111596,\n",
       "        -0.96111596, -0.96111596, -1.28084339, -1.26099755, -1.38903266]),\n",
       " 's_5': array([0.39420866, 0.3851686 , 0.41356965, 0.37886302, 0.3851686 ,\n",
       "        0.42762023, 0.40020774, 0.39638502, 0.39948859, 0.41362645,\n",
       "        0.41362645, 0.41362645, 0.38788327, 0.37886302, 0.37886302]),\n",
       " 'm_lower': array([-1.12306276, -1.22546572, -0.98394534, -1.64455321, -1.22546572,\n",
       "        -1.14150248, -1.2445911 , -1.21718291, -1.22893522, -1.02529247,\n",
       "        -1.02529247, -1.02529247, -1.40102215, -1.37479287, -1.64457906]),\n",
       " 's_lower': array([0.34781578, 0.36938649, 0.38947826, 0.34567854, 0.36938649,\n",
       "        0.38947826, 0.34781578, 0.37055427, 0.38206378, 0.34781578,\n",
       "        0.34781578, 0.34781578, 0.36938649, 0.34567854, 0.34567854]),\n",
       " 'm_upper': array([-0.96462305, -1.13858732, -0.85912429, -1.34381565, -1.13858732,\n",
       "        -0.86234019, -1.02998122, -1.11515351, -0.93113835, -0.93928327,\n",
       "        -0.93928327, -0.93928327, -1.18466474, -1.21494637, -1.36353233]),\n",
       " 's_upper': array([0.40321434, 0.39583593, 0.43102237, 0.39494284, 0.39583593,\n",
       "        0.4319708 , 0.41310416, 0.40351237, 0.41031075, 0.42545017,\n",
       "        0.42545017, 0.42545017, 0.39846907, 0.39004646, 0.39494284]),\n",
       " 'q_lower': 0.025,\n",
       " 'q_upper': 0.975,\n",
       " 'x_test': array([[0.67227856, 0.4880784 ],\n",
       "        [0.82549517, 0.03144639],\n",
       "        [0.80804996, 0.56561742],\n",
       "        [0.2976225 , 0.04669572],\n",
       "        [0.9906274 , 0.00682573],\n",
       "        [0.76979303, 0.7467671 ],\n",
       "        [0.37743894, 0.49414745],\n",
       "        [0.92894839, 0.39545404],\n",
       "        [0.9739563 , 0.52441472],\n",
       "        [0.09361309, 0.81330841],\n",
       "        [0.21168679, 0.55434578],\n",
       "        [0.29226912, 0.81614236],\n",
       "        [0.82804257, 0.22157737],\n",
       "        [0.6448347 , 0.09518162],\n",
       "        [0.41166324, 0.09686526]]),\n",
       " 'modeltype': 4}"
      ]
     },
     "execution_count": null,
     "metadata": {},
     "output_type": "execute_result"
    }
   ],
   "source": [
    "fitp"
   ]
  },
  {
   "cell_type": "code",
   "execution_count": null,
   "metadata": {},
   "outputs": [],
   "source": []
  }
 ],
 "metadata": {
  "kernelspec": {
   "display_name": "Python 3",
   "language": "python",
   "name": "python3"
  }
 },
 "nbformat": 4,
 "nbformat_minor": 4
}
