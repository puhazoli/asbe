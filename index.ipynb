{
 "cells": [
  {
   "cell_type": "code",
   "execution_count": null,
   "metadata": {
    "hide_input": true
   },
   "outputs": [],
   "source": [
    "from nbdev import *"
   ]
  },
  {
   "cell_type": "markdown",
   "metadata": {},
   "source": [
    "# Automatic Stopping for Batch-mode Experimentation\n",
    "\n",
    "> Code for using active learning and automatic stopping for designing experiments"
   ]
  },
  {
   "cell_type": "markdown",
   "metadata": {},
   "source": [
    "Created with nbdev by Zoltan Puha"
   ]
  },
  {
   "cell_type": "markdown",
   "metadata": {},
   "source": [
    "## Install"
   ]
  },
  {
   "cell_type": "markdown",
   "metadata": {},
   "source": [
    "`python -m pip install  git+https://github.com/puhazoli/asbe`"
   ]
  },
  {
   "cell_type": "markdown",
   "metadata": {},
   "source": [
    "## How to use\n",
    "ASBE builds on the functional views of modAL, where an AL algorithm can be run by putting together pieces. You need the following ingredients:\n",
    "- an ITE estimator (`ITEEstimator()`),\n",
    "- an acquisition function,\n",
    "- and an assignment function.\n",
    "- Additionaly, you can add a stopping criteria to your model. \n",
    "If all the above are defined, you can construct an `ASLearner`, which will help you in the active learning process."
   ]
  },
  {
   "cell_type": "code",
   "execution_count": null,
   "metadata": {},
   "outputs": [
    {
     "name": "stderr",
     "output_type": "stream",
     "text": [
      "/opt/anaconda3/lib/python3.7/site-packages/dask/dataframe/utils.py:14: FutureWarning: pandas.util.testing is deprecated. Use the functions in the public API at pandas.testing instead.\n",
      "  import pandas.util.testing as tm\n"
     ]
    }
   ],
   "source": [
    "from asbe.core import *\n",
    "from asbe.base import *\n",
    "from sklearn.linear_model import LogisticRegression\n",
    "from sklearn.ensemble import RandomForestClassifier\n",
    "import numpy as np"
   ]
  },
  {
   "cell_type": "code",
   "execution_count": null,
   "metadata": {},
   "outputs": [],
   "source": [
    "N = 1000\n",
    "X = np.random.normal(size = N*2).reshape((-1,2))\n",
    "t = np.random.binomial(n = 1, p = 0.5, size = N)\n",
    "y = np.random.binomial(n = 1, p = 1/(1+np.exp(X[:, 1]*2 + t*3)))\n",
    "ite = 1/(1+np.exp(X[:, 1]*2 + t*3)) - 1/(1+np.exp(X[:, 1]*2))\n",
    "a = BaseITEEstimator(LogisticRegression(solver=\"lbfgs\"))\n",
    "a.fit(X, t, y)"
   ]
  },
  {
   "cell_type": "markdown",
   "metadata": {},
   "source": [
    "## Learning actively\n",
    "Similarly, you can create an `ASLearner`, for which you will initialize the dataset and set the preferred modeling options. Let's see how it works:\n",
    "- we will use XBART to model the treatment effect with a one-model approach\n",
    "- we will use expected model change maximization\n",
    "    - for that, we need an approximate model, we will use the `SGDRegressor`\n",
    "    \n",
    "You can call `.fit()` on the `ASLearner`, which will by default fit the training data supplied. To select new units from the pool, you just need to call the `query()` method, which will return the selected `X` and the `query_ix` of these units. `ASLearner` expects the `n2` argument, which tells  how many units are queried at once. For sequential AL, we can set this to 1. Additionally, some query strategies can require different treatment effect estimates - EMCM needs uncertainty around the ITE. We can explicitly tell the the `ITEEstimator` to return all the predicted treatment effects. \n",
    "Then, we can teach the newly acquired units to the learner, by calling the `teach` function. The `score` function provides an evaluation of the given learner."
   ]
  },
  {
   "cell_type": "code",
   "execution_count": null,
   "metadata": {},
   "outputs": [],
   "source": [
    "from xbart import XBART\n",
    "from sklearn.model_selection import train_test_split\n",
    "from sklearn.linear_model import SGDRegressor\n",
    "from copy import deepcopy"
   ]
  },
  {
   "cell_type": "code",
   "execution_count": null,
   "metadata": {},
   "outputs": [
    {
     "data": {
      "text/plain": [
       "0.3390672005558532"
      ]
     },
     "execution_count": null,
     "metadata": {},
     "output_type": "execute_result"
    }
   ],
   "source": [
    "X_train, X_test, t_train, t_test, y_train, y_test, ite_train, ite_test = train_test_split(\n",
    "    X, t, y, ite,  test_size=0.8, random_state=1005)\n",
    "ds = {\"X_training\": X_train,\n",
    "     \"y_training\": y_train,\n",
    "     \"t_training\": t_train,\n",
    "     \"X_pool\": deepcopy(X_test), \n",
    "     \"y_pool\": deepcopy(y_test),\n",
    "     \"t_pool\": deepcopy(t_test),\n",
    "     \"X_test\": X_test,\n",
    "     \"y_test\": y_test,\n",
    "      \"t_test\": t_test,\n",
    "      \"ite_test\": ite_test\n",
    "     }\n",
    "asl = BaseActiveLearner(estimator = BaseITEEstimator(model = RandomForestClassifier(),\n",
    "                                         two_model=False),\n",
    "                        acquisition_function=BaseAcquisitionFunction(),\n",
    "                        assignment_function=BaseAssignmentFunction(),\n",
    "                        stopping_function = None,\n",
    "                        dataset=ds)\n",
    "asl.fit()\n",
    "X_new, query_idx = asl.query(no_query=10)\n",
    "asl.teach(query_idx)\n",
    "preds = asl.predict(asl.dataset[\"X_test\"])\n",
    "asl.score()"
   ]
  },
  {
   "cell_type": "code",
   "execution_count": null,
   "metadata": {},
   "outputs": [
    {
     "data": {
      "text/plain": [
       "{'base_1': {1: 0.29480062621373704,\n",
       "  2: 0.33169313698705205,\n",
       "  3: 0.31283101209087105,\n",
       "  4: 0.31597245248638856,\n",
       "  5: 0.3253383054982484,\n",
       "  6: 0.30636028504675966,\n",
       "  7: 0.29269625696445883,\n",
       "  8: 0.3218436954560267,\n",
       "  9: 0.2990114208873613,\n",
       "  10: 0.3284856580084884},\n",
       " 'base_20': {1: 0.2971994426480454,\n",
       "  2: 0.32659555438399573,\n",
       "  3: 0.301906452689613,\n",
       "  4: 0.30784039765696897,\n",
       "  5: 0.323240867647359,\n",
       "  6: 0.3109199891094224,\n",
       "  7: 0.2966170617558966,\n",
       "  8: 0.31146172916966286,\n",
       "  9: 0.2966055514803353,\n",
       "  10: 0.32605171940639377}}"
      ]
     },
     "execution_count": null,
     "metadata": {},
     "output_type": "execute_result"
    }
   ],
   "source": [
    "asl = BaseActiveLearner(estimator = BaseITEEstimator(model = RandomForestClassifier(),\n",
    "                                         two_model=True),\n",
    "                        acquisition_function=[BaseAcquisitionFunction(),\n",
    "                                             BaseAcquisitionFunction(no_query=20)],\n",
    "                        assignment_function=BaseAssignmentFunction(),\n",
    "                        stopping_function = None,\n",
    "                        dataset=ds, al_steps = 10)\n",
    "asl.simulate()"
   ]
  },
  {
   "cell_type": "code",
   "execution_count": null,
   "metadata": {},
   "outputs": [
    {
     "data": {
      "text/plain": [
       "(210, 2)"
      ]
     },
     "execution_count": null,
     "metadata": {},
     "output_type": "execute_result"
    }
   ],
   "source": [
    "asl.dataset[\"X_training\"].shape"
   ]
  },
  {
   "cell_type": "code",
   "execution_count": null,
   "metadata": {},
   "outputs": [
    {
     "data": {
      "text/plain": [
       "(200, 2)"
      ]
     },
     "execution_count": null,
     "metadata": {},
     "output_type": "execute_result"
    }
   ],
   "source": [
    "ds[\"X_training\"].shape"
   ]
  },
  {
   "cell_type": "code",
   "execution_count": null,
   "metadata": {},
   "outputs": [],
   "source": []
  }
 ],
 "metadata": {
  "kernelspec": {
   "display_name": "Python 3",
   "language": "python",
   "name": "python3"
  }
 },
 "nbformat": 4,
 "nbformat_minor": 2
}
