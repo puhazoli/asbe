{
 "cells": [
  {
   "cell_type": "code",
   "execution_count": null,
   "id": "596aa338",
   "metadata": {},
   "outputs": [
    {
     "name": "stderr",
     "output_type": "stream",
     "text": [
      "\n",
      "Bad key \"text.kerning_factor\" on line 4 in\n",
      "/opt/anaconda3/lib/python3.7/site-packages/matplotlib/mpl-data/stylelib/_classic_test_patch.mplstyle.\n",
      "You probably need to get an updated matplotlibrc file from\n",
      "https://github.com/matplotlib/matplotlib/blob/v3.1.3/matplotlibrc.template\n",
      "or from the matplotlib source distribution\n",
      "pandas.util.testing is deprecated. Use the functions in the public API at pandas.testing instead.\n"
     ]
    }
   ],
   "source": [
    "#all_slow\n",
    "from asbe.base import *\n",
    "from asbe.models import *\n",
    "from asbe.estimators import *\n",
    "from econml.orf import DMLOrthoForest\n",
    "from econml.dml import CausalForestDML\n",
    "from causalml.inference.nn import CEVAE\n",
    "from openbt.openbt import OPENBT\n",
    "import pandas as pd\n",
    "import numpy as np\n",
    "from sklearn.ensemble import RandomForestRegressor\n",
    "from sklearn.linear_model import LinearRegression, LogisticRegression\n",
    "from sklearn.model_selection import train_test_split\n",
    "from copy import deepcopy\n",
    "import econml\n",
    "from causalml.dataset import synthetic_data\n",
    "from sklearn.gaussian_process import GaussianProcessRegressor\n",
    "from sklearn.gaussian_process.kernels import ConstantKernel, RBF"
   ]
  },
  {
   "cell_type": "code",
   "execution_count": null,
   "id": "7c3b69ff",
   "metadata": {},
   "outputs": [],
   "source": [
    "def prepare_data(number, random_state):\n",
    "    df = pd.read_csv(\n",
    "    f\"https://raw.githubusercontent.com/AMLab-Amsterdam/CEVAE/master/datasets/IHDP/csv/ihdp_npci_{number}.csv\",\n",
    "    names = [\"treatment\", \"y_factual\", \"y_cfactual\", \"mu0\", \"mu1\"] + [f'x{x}' for x in range(25)])\n",
    "    X = df.loc[:,\"x0\":].to_numpy()\n",
    "    t = df[\"treatment\"].to_numpy()\n",
    "    #t = np.zeros_like(t)\n",
    "    y = df[\"y_factual\"].to_numpy()\n",
    "    y1 = np.where(df[\"treatment\"] == 1,\n",
    "                   df['y_factual'],\n",
    "                   df['y_cfactual'])\n",
    "    y0 = np.where(df[\"treatment\"] == 0,\n",
    "                   df['y_factual'],\n",
    "                   df['y_cfactual'])\n",
    "    ite = np.where(df[\"treatment\"] == 1,\n",
    "                   df['y_factual'] - df[\"y_cfactual\"],\n",
    "                   df['y_cfactual'] - df[\"y_factual\"])\n",
    "    X_train, X_test, t_train, t_test, y_train, y_test, ite_train, ite_test, y1_train, y1_test, y0_train, y0_test = train_test_split(\n",
    "    X, t, y, ite, y1, y0,  test_size=0.865, random_state=random_state)\n",
    "    ds = {\"X_training\": X_train,\n",
    "     \"y_training\": y_train,\n",
    "     \"t_training\": t_train,\n",
    "     \"X_pool\": X_test[:400, :], \n",
    "     \"y_pool\": y_test[:400],\n",
    "     \"t_pool\": t_test[:400],\n",
    "     \"y1_pool\": y1_test[:400],\n",
    "     \"y0_pool\": y0_test[:400],\n",
    "     \"X_test\": X_test[:400, :],\n",
    "     \"y_test\": y_test[400:],\n",
    "     \"t_test\": t_test[400:],\n",
    "      \"ite_test\": ite_test[:400]\n",
    "     }\n",
    "    return ds"
   ]
  },
  {
   "cell_type": "code",
   "execution_count": null,
   "id": "508e5c22",
   "metadata": {},
   "outputs": [],
   "source": [
    "%nbdev_slow_test\n",
    "res = {}\n",
    "for i in range(20):\n",
    "    for d in range(9):\n",
    "        ds = prepare_data(d+1, i)\n",
    "        asl = BaseActiveLearner(estimator = GPEstimator(model = GaussianProcessRegressor(ConstantKernel()*RBF(np.ones(ds[\"X_training\"].shape[1],))),\n",
    "                                                 two_model=True,\n",
    "                                                            ps_model=None),\n",
    "                                acquisition_function=[RandomAcquisitionFunction(name=\"random\"),\n",
    "                                                      UncertaintyAcquisitionFunction(name=\"unc\"),\n",
    "                                                      TypeSAcquistionFunction(name=\"type_s\"),\n",
    "                                                      EMCMAcquisitionFunction(name=\"emcm\")],\n",
    "                                assignment_function=BaseAssignmentFunction(),\n",
    "                                stopping_function = None,\n",
    "                                dataset=ds,\n",
    "                               al_steps=5)\n",
    "        _ = asl.simulate(no_query=1, metric=\"decision\")\n",
    "        res[f\"{i}_{d}\"] =  pd.DataFrame(asl.simulation_results)\n",
    "        res[f\"{i}_{d}\"][\"sim\"] = i\n",
    "        res[f\"{i}_{d}\"][\"data\"] = d\n",
    "\n",
    "resdf = pd.concat(res.values())\n",
    "\n",
    "resdf.reset_index(inplace=True)\n",
    "\n",
    "print(resdf.groupby([\"data\", \"index\"])[\"random_1\", \"unc_1\", \"type_s_1\", \"emcm_1\"].mean().loc[0].to_latex())\n",
    "\n",
    "plt.plot(resdf.groupby([\"data\", \"index\"])[\"random_1\", \"unc_1\", \"type_s_1\", \"emcm_1\"].mean().loc[0])"
   ]
  },
  {
   "cell_type": "code",
   "execution_count": null,
   "id": "3774dd9e",
   "metadata": {},
   "outputs": [],
   "source": []
  },
  {
   "cell_type": "code",
   "execution_count": null,
   "id": "e3253b94",
   "metadata": {},
   "outputs": [],
   "source": []
  }
 ],
 "metadata": {
  "kernelspec": {
   "display_name": "Python 3",
   "language": "python",
   "name": "python3"
  }
 },
 "nbformat": 4,
 "nbformat_minor": 5
}
