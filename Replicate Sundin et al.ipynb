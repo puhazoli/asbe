{
 "cells": [
  {
   "cell_type": "code",
   "execution_count": null,
   "id": "d1ce66c0",
   "metadata": {},
   "outputs": [],
   "source": [
    "#all_slow"
   ]
  },
  {
   "cell_type": "markdown",
   "id": "c8f20762",
   "metadata": {},
   "source": [
    "# Replication of Sundin et al, ICML 2019"
   ]
  },
  {
   "cell_type": "code",
   "execution_count": null,
   "id": "596aa338",
   "metadata": {},
   "outputs": [
    {
     "name": "stderr",
     "output_type": "stream",
     "text": [
      "In /opt/anaconda3/lib/python3.7/site-packages/matplotlib/mpl-data/stylelib/_classic_test.mplstyle: \n",
      "The text.latex.preview rcparam was deprecated in Matplotlib 3.3 and will be removed two minor releases later.\n",
      "In /opt/anaconda3/lib/python3.7/site-packages/matplotlib/mpl-data/stylelib/_classic_test.mplstyle: \n",
      "The mathtext.fallback_to_cm rcparam was deprecated in Matplotlib 3.3 and will be removed two minor releases later.\n",
      "In /opt/anaconda3/lib/python3.7/site-packages/matplotlib/mpl-data/stylelib/_classic_test.mplstyle: Support for setting the 'mathtext.fallback_to_cm' rcParam is deprecated since 3.3 and will be removed two minor releases later; use 'mathtext.fallback : 'cm' instead.\n",
      "In /opt/anaconda3/lib/python3.7/site-packages/matplotlib/mpl-data/stylelib/_classic_test.mplstyle: \n",
      "The validate_bool_maybe_none function was deprecated in Matplotlib 3.3 and will be removed two minor releases later.\n",
      "In /opt/anaconda3/lib/python3.7/site-packages/matplotlib/mpl-data/stylelib/_classic_test.mplstyle: \n",
      "The savefig.jpeg_quality rcparam was deprecated in Matplotlib 3.3 and will be removed two minor releases later.\n",
      "In /opt/anaconda3/lib/python3.7/site-packages/matplotlib/mpl-data/stylelib/_classic_test.mplstyle: \n",
      "The keymap.all_axes rcparam was deprecated in Matplotlib 3.3 and will be removed two minor releases later.\n",
      "In /opt/anaconda3/lib/python3.7/site-packages/matplotlib/mpl-data/stylelib/_classic_test.mplstyle: \n",
      "The animation.avconv_path rcparam was deprecated in Matplotlib 3.3 and will be removed two minor releases later.\n",
      "In /opt/anaconda3/lib/python3.7/site-packages/matplotlib/mpl-data/stylelib/_classic_test.mplstyle: \n",
      "The animation.avconv_args rcparam was deprecated in Matplotlib 3.3 and will be removed two minor releases later.\n",
      "pandas.util.testing is deprecated. Use the functions in the public API at pandas.testing instead.\n"
     ]
    }
   ],
   "source": [
    "from asbe.base import *\n",
    "from asbe.models import *\n",
    "from asbe.estimators import *\n",
    "from econml.orf import DMLOrthoForest\n",
    "from econml.dml import CausalForestDML\n",
    "from causalml.inference.nn import CEVAE\n",
    "from openbt.openbt import OPENBT\n",
    "import pandas as pd\n",
    "import numpy as np\n",
    "from sklearn.ensemble import RandomForestRegressor\n",
    "from sklearn.linear_model import LinearRegression, LogisticRegression\n",
    "from sklearn.model_selection import train_test_split\n",
    "from copy import deepcopy\n",
    "import econml\n",
    "from causalml.dataset import synthetic_data\n",
    "from sklearn.gaussian_process import GaussianProcessRegressor\n",
    "from sklearn.gaussian_process.kernels import ConstantKernel, RBF\n",
    "import matplotlib.pyplot as plt\n",
    "from sklearn.preprocessing import StandardScaler"
   ]
  },
  {
   "cell_type": "code",
   "execution_count": null,
   "id": "7c3b69ff",
   "metadata": {},
   "outputs": [],
   "source": [
    "def categorical2indicator(data, name, categorical_max=4):\n",
    "    '''\n",
    "    Transforms categorical variable with name 'name' form a data frame to indicator variables\n",
    "    \n",
    "    Taken from https://github.com/IirisSundin/active-learning-for-decision-making/blob/e0c83f58181f81da2f867da4c49f1333fa7d0ae6/src/util.py#L14\n",
    "    '''\n",
    "    values = data[name].values\n",
    "    values[values>= categorical_max] = categorical_max\n",
    "    uni = np.unique(values)\n",
    "    for i, value in enumerate(uni):\n",
    "        data[name+'.'+str(i)] = np.array((values==value), dtype=int)\n",
    "    data.drop(name, axis=1)\n",
    "    return data\n",
    "\n",
    "def prepare_data(row_to_test, random_state,categorical_max=2):\n",
    "    df = pd.read_csv(\"./data/ihdp_rc.csv\")\n",
    "    #names = [\"treatment\", \"y_factual\", \"y_cfactual\", \"mu0\", \"mu1\"] + [f'x{x}' for x in range(25)])\n",
    "    df = categorical2indicator(df, 'birth.o', categorical_max=categorical_max)\n",
    "    cnames = set(df.columns) - set([\"y_factual\", \"y_cfactual\", \"treatment\"])\n",
    "    #X = df.loc[:,\"x0\":].to_numpy()\n",
    "    df[\"first\"] = df[\"first\"] - 1\n",
    "    \n",
    "    # Creating training data\n",
    "    X_test = df.loc[row_to_test, cnames]\n",
    "    y_test = df.loc[row_to_test, \"y_factual\"]\n",
    "    t_test = df.loc[row_to_test, \"treatment\"]\n",
    "    ite_test = np.where(\n",
    "                   df.loc[row_to_test, \"treatment\"] == 1,\n",
    "                   df.loc[row_to_test, 'y_factual'] -  df.loc[row_to_test, \"y_cfactual\"],\n",
    "                   df.loc[row_to_test, 'y_cfactual'] - df.loc[row_to_test, \"y_factual\"])\n",
    "    \n",
    "    df.drop(row_to_test, axis=0, inplace=True)\n",
    "    X = df[cnames]\n",
    "    t = df[\"treatment\"].to_numpy()\n",
    "    y = df[\"y_factual\"].to_numpy()\n",
    "    y1 = np.where(df[\"treatment\"] == 1,\n",
    "                   df['y_factual'],\n",
    "                   df['y_cfactual'])\n",
    "    y0 = np.where(df[\"treatment\"] == 0,\n",
    "                   df['y_factual'],\n",
    "                   df['y_cfactual'])\n",
    "    ite = np.where(df[\"treatment\"] == 1,\n",
    "                   df['y_factual'] - df[\"y_cfactual\"],\n",
    "                   df['y_cfactual'] - df[\"y_factual\"])\n",
    "    \n",
    "    scalers = {}\n",
    "    X_train, X_pool, y_train, y_pool, t_train, t_pool, \\\n",
    "     y1_train, y1_pool, y0_train, y0_pool, ite_train, ite_pool = train_test_split(X, y, t,\n",
    "                                                                         y1, \n",
    "                                                                         y0,\n",
    "                                                                         ite,\n",
    "                                                                         test_size = 646,\n",
    "                                                                         random_state=random_state)\n",
    "    for col in ['bw','nnhealth', 'preterm', 'b.head','momage']:\n",
    "        scalers[col] = StandardScaler()\n",
    "        X_train[col] = scalers[col].fit_transform(X_train[col].to_numpy().reshape(-1,1))\n",
    "        X_pool[col] = scalers[col].transform(X_pool[col].to_numpy().reshape(-1,1))\n",
    "        X_test[col] = scalers[col].transform(X_test[col].reshape(-1,1))    \n",
    "    #X_train, X_pool, y_train, y_pool = X[], X_pool, y_train, y_pool\n",
    "    ds = {\"X_training\": X_train.to_numpy(),\n",
    "     \"y_training\": y_train,\n",
    "     \"t_training\": t_train,\n",
    "     \"X_pool\": X_pool.to_numpy(), \n",
    "     \"y_pool\": y_pool,\n",
    "     \"t_pool\": t_pool,\n",
    "     \"y1_pool\": y1_pool,\n",
    "     \"y0_pool\": y0_pool,\n",
    "     \"X_test\": X_test.to_numpy().reshape(1, -1),\n",
    "     \"y_test\": y_test,\n",
    "     \"t_test\": t_test,\n",
    "      \"ite_test\": ite_test.reshape(1, -1)\n",
    "     }\n",
    "    return ds"
   ]
  },
  {
   "cell_type": "code",
   "execution_count": null,
   "id": "b9475613",
   "metadata": {},
   "outputs": [],
   "source": [
    "dt = prepare_data(row_to_test=1, random_state=1)"
   ]
  },
  {
   "cell_type": "code",
   "execution_count": null,
   "id": "006d0122",
   "metadata": {},
   "outputs": [
    {
     "data": {
      "image/png": "[encoded data removed]",
      "text/latex": [
       "$\\displaystyle \\left( 100, \\  29\\right)$"
      ],
      "text/plain": [
       "(100, 29)"
      ]
     },
     "execution_count": null,
     "metadata": {},
     "output_type": "execute_result"
    }
   ],
   "source": [
    "dt[\"X_training\"].shape"
   ]
  },
  {
   "cell_type": "code",
   "execution_count": null,
   "id": "fb26ce63",
   "metadata": {},
   "outputs": [],
   "source": [
    "import GPy"
   ]
  },
  {
   "cell_type": "code",
   "execution_count": null,
   "id": "f53057fd",
   "metadata": {},
   "outputs": [],
   "source": [
    "class GPyEstimator(BaseITEEstimator):\n",
    "    def train(self, **kwargs):\n",
    "        d = kwargs[\"X_training\"].shape[1]\n",
    "        prior = GPy.core.parameterization.priors.Gamma(a=1.5,b=3.0)\n",
    "        kern = GPy.kern.RBF(input_dim=d, ARD=True)\n",
    "        kern.variance.set_prior(prior)\n",
    "        kern.lengthscale.set_prior(prior)\n",
    "        lik1 = GPy.likelihoods.Gaussian()\n",
    "        lik1.variance.set_prior(prior)\n",
    "        lik_expert = GPy.likelihoods.Gaussian()\n",
    "        lik_expert.variance.set_prior(prior)\n",
    "        lik = GPy.likelihoods.MixedNoise([lik1, lik_expert])\n",
    "        m = GPy.core.GP(X = predictors, Y = outcomes, kernel=kern, likelihood=lik)\n",
    "        m.optimize()"
   ]
  },
  {
   "cell_type": "code",
   "execution_count": null,
   "id": "e2ccf81e",
   "metadata": {},
   "outputs": [
    {
     "ename": "IndentationError",
     "evalue": "unindent does not match any outer indentation level (<tokenize>, line 15)",
     "output_type": "error",
     "traceback": [
      "\u001b[0;36m  File \u001b[0;32m\"<tokenize>\"\u001b[0;36m, line \u001b[0;32m15\u001b[0m\n\u001b[0;31m    al_steps=5)\u001b[0m\n\u001b[0m    ^\u001b[0m\n\u001b[0;31mIndentationError\u001b[0m\u001b[0;31m:\u001b[0m unindent does not match any outer indentation level\n"
     ]
    }
   ],
   "source": [
    "res = {}\n",
    "for i in range(1):\n",
    "    for d in range(50):\n",
    "        ds = prepare_data(d+1, i)\n",
    "        asl = BaseActiveLearner(estimator = GPEstimator(model = GaussianProcessRegressor(ConstantKernel()*RBF(np.ones(ds[\"X_training\"].shape[1],))),\n",
    "                                                 two_model=True,\n",
    "                                                            ps_model=None),\n",
    "                                acquisition_function=[RandomAcquisitionFunction(name=\"random\"),\n",
    "                                                      UncertaintyAcquisitionFunction(name=\"unc\"),\n",
    "                                                      TypeSAcquistionFunction(name=\"type_s\"),\n",
    "                                                      EMCMAcquisitionFunction(name=\"emcm\")],\n",
    "                                assignment_function=BaseAssignmentFunction(),\n",
    "                                stopping_function = None,\n",
    "                                dataset=ds,\n",
    "                               al_steps=5)\n",
    "        _ = asl.simulate(no_query=1, metric=[\"decision\", \"PEHE\"])\n",
    "        res[f\"{i}_{d}\"] =  pd.DataFrame(asl.simulation_results)\n",
    "        res[f\"{i}_{d}\"][\"sim\"] = i\n",
    "        res[f\"{i}_{d}\"][\"data\"] = d\n",
    "        print(f\"D {d} is done\")"
   ]
  },
  {
   "cell_type": "code",
   "execution_count": null,
   "id": "3bb47e81",
   "metadata": {},
   "outputs": [
    {
     "data": {
      "text/html": [
       "<div>\n",
       "<style scoped>\n",
       "    .dataframe tbody tr th:only-of-type {\n",
       "        vertical-align: middle;\n",
       "    }\n",
       "\n",
       "    .dataframe tbody tr th {\n",
       "        vertical-align: top;\n",
       "    }\n",
       "\n",
       "    .dataframe thead th {\n",
       "        text-align: right;\n",
       "    }\n",
       "</style>\n",
       "<table border=\"1\" class=\"dataframe\">\n",
       "  <thead>\n",
       "    <tr style=\"text-align: right;\">\n",
       "      <th></th>\n",
       "      <th>random_1</th>\n",
       "      <th>unc_1</th>\n",
       "      <th>type_s_1</th>\n",
       "      <th>emcm_1</th>\n",
       "      <th>sim</th>\n",
       "      <th>data</th>\n",
       "    </tr>\n",
       "    <tr>\n",
       "      <th>index</th>\n",
       "      <th></th>\n",
       "      <th></th>\n",
       "      <th></th>\n",
       "      <th></th>\n",
       "      <th></th>\n",
       "      <th></th>\n",
       "    </tr>\n",
       "  </thead>\n",
       "  <tbody>\n",
       "    <tr>\n",
       "      <th>0</th>\n",
       "      <td>NaN</td>\n",
       "      <td>NaN</td>\n",
       "      <td>NaN</td>\n",
       "      <td>NaN</td>\n",
       "      <td>0.0</td>\n",
       "      <td>24.5</td>\n",
       "    </tr>\n",
       "    <tr>\n",
       "      <th>1</th>\n",
       "      <td>4.856879</td>\n",
       "      <td>4.856879</td>\n",
       "      <td>4.856879</td>\n",
       "      <td>4.856879</td>\n",
       "      <td>NaN</td>\n",
       "      <td>NaN</td>\n",
       "    </tr>\n",
       "    <tr>\n",
       "      <th>2</th>\n",
       "      <td>4.520318</td>\n",
       "      <td>4.783990</td>\n",
       "      <td>4.459509</td>\n",
       "      <td>4.661603</td>\n",
       "      <td>NaN</td>\n",
       "      <td>NaN</td>\n",
       "    </tr>\n",
       "    <tr>\n",
       "      <th>3</th>\n",
       "      <td>5.966706</td>\n",
       "      <td>5.830186</td>\n",
       "      <td>6.096363</td>\n",
       "      <td>5.773085</td>\n",
       "      <td>NaN</td>\n",
       "      <td>NaN</td>\n",
       "    </tr>\n",
       "    <tr>\n",
       "      <th>4</th>\n",
       "      <td>5.384808</td>\n",
       "      <td>4.917060</td>\n",
       "      <td>4.834906</td>\n",
       "      <td>4.825518</td>\n",
       "      <td>NaN</td>\n",
       "      <td>NaN</td>\n",
       "    </tr>\n",
       "    <tr>\n",
       "      <th>5</th>\n",
       "      <td>4.957736</td>\n",
       "      <td>4.161023</td>\n",
       "      <td>4.738927</td>\n",
       "      <td>4.755389</td>\n",
       "      <td>NaN</td>\n",
       "      <td>NaN</td>\n",
       "    </tr>\n",
       "  </tbody>\n",
       "</table>\n",
       "</div>"
      ],
      "text/plain": [
       "       random_1     unc_1  type_s_1    emcm_1  sim  data\n",
       "index                                                   \n",
       "0           NaN       NaN       NaN       NaN  0.0  24.5\n",
       "1      4.856879  4.856879  4.856879  4.856879  NaN   NaN\n",
       "2      4.520318  4.783990  4.459509  4.661603  NaN   NaN\n",
       "3      5.966706  5.830186  6.096363  5.773085  NaN   NaN\n",
       "4      5.384808  4.917060  4.834906  4.825518  NaN   NaN\n",
       "5      4.957736  4.161023  4.738927  4.755389  NaN   NaN"
      ]
     },
     "execution_count": null,
     "metadata": {},
     "output_type": "execute_result"
    }
   ],
   "source": [
    "pd.concat([x.loc[\"PEHE\"].apply(pd.Series).T for x in res.values()]).reset_index().groupby('index').mean()"
   ]
  },
  {
   "cell_type": "code",
   "execution_count": null,
   "id": "508e5c22",
   "metadata": {},
   "outputs": [
    {
     "name": "stdout",
     "output_type": "stream",
     "text": [
      "\\begin{tabular}{l}\n",
      "\\toprule\n",
      "Empty DataFrame\n",
      "Columns: Index([], dtype='object')\n",
      "Index: Index(['PEHE', 'decision'], dtype='object', name='index') \\\\\n",
      "\\bottomrule\n",
      "\\end{tabular}\n",
      "\n"
     ]
    },
    {
     "ename": "ZeroDivisionError",
     "evalue": "integer division or modulo by zero",
     "output_type": "error",
     "traceback": [
      "\u001b[0;31m---------------------------------------------------------------------------\u001b[0m",
      "\u001b[0;31mZeroDivisionError\u001b[0m                         Traceback (most recent call last)",
      "\u001b[0;32m<ipython-input-8-101ebc9d0050>\u001b[0m in \u001b[0;36m<module>\u001b[0;34m\u001b[0m\n\u001b[1;32m      5\u001b[0m \u001b[0mprint\u001b[0m\u001b[0;34m(\u001b[0m\u001b[0mresdf\u001b[0m\u001b[0;34m.\u001b[0m\u001b[0mgroupby\u001b[0m\u001b[0;34m(\u001b[0m\u001b[0;34m[\u001b[0m\u001b[0;34m\"data\"\u001b[0m\u001b[0;34m,\u001b[0m \u001b[0;34m\"index\"\u001b[0m\u001b[0;34m]\u001b[0m\u001b[0;34m)\u001b[0m\u001b[0;34m[\u001b[0m\u001b[0;34m\"random_1\"\u001b[0m\u001b[0;34m,\u001b[0m \u001b[0;34m\"unc_1\"\u001b[0m\u001b[0;34m,\u001b[0m \u001b[0;34m\"type_s_1\"\u001b[0m\u001b[0;34m,\u001b[0m \u001b[0;34m\"emcm_1\"\u001b[0m\u001b[0;34m]\u001b[0m\u001b[0;34m.\u001b[0m\u001b[0mmean\u001b[0m\u001b[0;34m(\u001b[0m\u001b[0;34m)\u001b[0m\u001b[0;34m.\u001b[0m\u001b[0mloc\u001b[0m\u001b[0;34m[\u001b[0m\u001b[0;36m0\u001b[0m\u001b[0;34m]\u001b[0m\u001b[0;34m.\u001b[0m\u001b[0mto_latex\u001b[0m\u001b[0;34m(\u001b[0m\u001b[0;34m)\u001b[0m\u001b[0;34m)\u001b[0m\u001b[0;34m\u001b[0m\u001b[0;34m\u001b[0m\u001b[0m\n\u001b[1;32m      6\u001b[0m \u001b[0;34m\u001b[0m\u001b[0m\n\u001b[0;32m----> 7\u001b[0;31m \u001b[0mplt\u001b[0m\u001b[0;34m.\u001b[0m\u001b[0mplot\u001b[0m\u001b[0;34m(\u001b[0m\u001b[0mresdf\u001b[0m\u001b[0;34m.\u001b[0m\u001b[0mgroupby\u001b[0m\u001b[0;34m(\u001b[0m\u001b[0;34m[\u001b[0m\u001b[0;34m\"index\"\u001b[0m\u001b[0;34m]\u001b[0m\u001b[0;34m)\u001b[0m\u001b[0;34m[\u001b[0m\u001b[0;34m\"random_1\"\u001b[0m\u001b[0;34m,\u001b[0m \u001b[0;34m\"unc_1\"\u001b[0m\u001b[0;34m,\u001b[0m \u001b[0;34m\"type_s_1\"\u001b[0m\u001b[0;34m,\u001b[0m \u001b[0;34m\"emcm_1\"\u001b[0m\u001b[0;34m]\u001b[0m\u001b[0;34m.\u001b[0m\u001b[0mmean\u001b[0m\u001b[0;34m(\u001b[0m\u001b[0;34m)\u001b[0m\u001b[0;34m)\u001b[0m\u001b[0;34m\u001b[0m\u001b[0;34m\u001b[0m\u001b[0m\n\u001b[0m",
      "\u001b[0;32m/opt/anaconda3/lib/python3.7/site-packages/matplotlib/pyplot.py\u001b[0m in \u001b[0;36mplot\u001b[0;34m(scalex, scaley, data, *args, **kwargs)\u001b[0m\n\u001b[1;32m   3019\u001b[0m     return gca().plot(\n\u001b[1;32m   3020\u001b[0m         \u001b[0;34m*\u001b[0m\u001b[0margs\u001b[0m\u001b[0;34m,\u001b[0m \u001b[0mscalex\u001b[0m\u001b[0;34m=\u001b[0m\u001b[0mscalex\u001b[0m\u001b[0;34m,\u001b[0m \u001b[0mscaley\u001b[0m\u001b[0;34m=\u001b[0m\u001b[0mscaley\u001b[0m\u001b[0;34m,\u001b[0m\u001b[0;34m\u001b[0m\u001b[0;34m\u001b[0m\u001b[0m\n\u001b[0;32m-> 3021\u001b[0;31m         **({\"data\": data} if data is not None else {}), **kwargs)\n\u001b[0m\u001b[1;32m   3022\u001b[0m \u001b[0;34m\u001b[0m\u001b[0m\n\u001b[1;32m   3023\u001b[0m \u001b[0;34m\u001b[0m\u001b[0m\n",
      "\u001b[0;32m/opt/anaconda3/lib/python3.7/site-packages/matplotlib/axes/_axes.py\u001b[0m in \u001b[0;36mplot\u001b[0;34m(self, scalex, scaley, data, *args, **kwargs)\u001b[0m\n\u001b[1;32m   1603\u001b[0m         \"\"\"\n\u001b[1;32m   1604\u001b[0m         \u001b[0mkwargs\u001b[0m \u001b[0;34m=\u001b[0m \u001b[0mcbook\u001b[0m\u001b[0;34m.\u001b[0m\u001b[0mnormalize_kwargs\u001b[0m\u001b[0;34m(\u001b[0m\u001b[0mkwargs\u001b[0m\u001b[0;34m,\u001b[0m \u001b[0mmlines\u001b[0m\u001b[0;34m.\u001b[0m\u001b[0mLine2D\u001b[0m\u001b[0;34m)\u001b[0m\u001b[0;34m\u001b[0m\u001b[0;34m\u001b[0m\u001b[0m\n\u001b[0;32m-> 1605\u001b[0;31m         \u001b[0mlines\u001b[0m \u001b[0;34m=\u001b[0m \u001b[0;34m[\u001b[0m\u001b[0;34m*\u001b[0m\u001b[0mself\u001b[0m\u001b[0;34m.\u001b[0m\u001b[0m_get_lines\u001b[0m\u001b[0;34m(\u001b[0m\u001b[0;34m*\u001b[0m\u001b[0margs\u001b[0m\u001b[0;34m,\u001b[0m \u001b[0mdata\u001b[0m\u001b[0;34m=\u001b[0m\u001b[0mdata\u001b[0m\u001b[0;34m,\u001b[0m \u001b[0;34m**\u001b[0m\u001b[0mkwargs\u001b[0m\u001b[0;34m)\u001b[0m\u001b[0;34m]\u001b[0m\u001b[0;34m\u001b[0m\u001b[0;34m\u001b[0m\u001b[0m\n\u001b[0m\u001b[1;32m   1606\u001b[0m         \u001b[0;32mfor\u001b[0m \u001b[0mline\u001b[0m \u001b[0;32min\u001b[0m \u001b[0mlines\u001b[0m\u001b[0;34m:\u001b[0m\u001b[0;34m\u001b[0m\u001b[0;34m\u001b[0m\u001b[0m\n\u001b[1;32m   1607\u001b[0m             \u001b[0mself\u001b[0m\u001b[0;34m.\u001b[0m\u001b[0madd_line\u001b[0m\u001b[0;34m(\u001b[0m\u001b[0mline\u001b[0m\u001b[0;34m)\u001b[0m\u001b[0;34m\u001b[0m\u001b[0;34m\u001b[0m\u001b[0m\n",
      "\u001b[0;32m/opt/anaconda3/lib/python3.7/site-packages/matplotlib/axes/_base.py\u001b[0m in \u001b[0;36m__call__\u001b[0;34m(self, data, *args, **kwargs)\u001b[0m\n\u001b[1;32m    313\u001b[0m                 \u001b[0mthis\u001b[0m \u001b[0;34m+=\u001b[0m \u001b[0margs\u001b[0m\u001b[0;34m[\u001b[0m\u001b[0;36m0\u001b[0m\u001b[0;34m]\u001b[0m\u001b[0;34m,\u001b[0m\u001b[0;34m\u001b[0m\u001b[0;34m\u001b[0m\u001b[0m\n\u001b[1;32m    314\u001b[0m                 \u001b[0margs\u001b[0m \u001b[0;34m=\u001b[0m \u001b[0margs\u001b[0m\u001b[0;34m[\u001b[0m\u001b[0;36m1\u001b[0m\u001b[0;34m:\u001b[0m\u001b[0;34m]\u001b[0m\u001b[0;34m\u001b[0m\u001b[0;34m\u001b[0m\u001b[0m\n\u001b[0;32m--> 315\u001b[0;31m             \u001b[0;32myield\u001b[0m \u001b[0;32mfrom\u001b[0m \u001b[0mself\u001b[0m\u001b[0;34m.\u001b[0m\u001b[0m_plot_args\u001b[0m\u001b[0;34m(\u001b[0m\u001b[0mthis\u001b[0m\u001b[0;34m,\u001b[0m \u001b[0mkwargs\u001b[0m\u001b[0;34m)\u001b[0m\u001b[0;34m\u001b[0m\u001b[0;34m\u001b[0m\u001b[0m\n\u001b[0m\u001b[1;32m    316\u001b[0m \u001b[0;34m\u001b[0m\u001b[0m\n\u001b[1;32m    317\u001b[0m     \u001b[0;32mdef\u001b[0m \u001b[0mget_next_color\u001b[0m\u001b[0;34m(\u001b[0m\u001b[0mself\u001b[0m\u001b[0;34m)\u001b[0m\u001b[0;34m:\u001b[0m\u001b[0;34m\u001b[0m\u001b[0;34m\u001b[0m\u001b[0m\n",
      "\u001b[0;32m/opt/anaconda3/lib/python3.7/site-packages/matplotlib/axes/_base.py\u001b[0m in \u001b[0;36m_plot_args\u001b[0;34m(self, tup, kwargs, return_kwargs)\u001b[0m\n\u001b[1;32m    537\u001b[0m             \u001b[0;32mreturn\u001b[0m \u001b[0mlist\u001b[0m\u001b[0;34m(\u001b[0m\u001b[0mresult\u001b[0m\u001b[0;34m)\u001b[0m\u001b[0;34m\u001b[0m\u001b[0;34m\u001b[0m\u001b[0m\n\u001b[1;32m    538\u001b[0m         \u001b[0;32melse\u001b[0m\u001b[0;34m:\u001b[0m\u001b[0;34m\u001b[0m\u001b[0;34m\u001b[0m\u001b[0m\n\u001b[0;32m--> 539\u001b[0;31m             \u001b[0;32mreturn\u001b[0m \u001b[0;34m[\u001b[0m\u001b[0ml\u001b[0m\u001b[0;34m[\u001b[0m\u001b[0;36m0\u001b[0m\u001b[0;34m]\u001b[0m \u001b[0;32mfor\u001b[0m \u001b[0ml\u001b[0m \u001b[0;32min\u001b[0m \u001b[0mresult\u001b[0m\u001b[0;34m]\u001b[0m\u001b[0;34m\u001b[0m\u001b[0;34m\u001b[0m\u001b[0m\n\u001b[0m\u001b[1;32m    540\u001b[0m \u001b[0;34m\u001b[0m\u001b[0m\n\u001b[1;32m    541\u001b[0m \u001b[0;34m\u001b[0m\u001b[0m\n",
      "\u001b[0;32m/opt/anaconda3/lib/python3.7/site-packages/matplotlib/axes/_base.py\u001b[0m in \u001b[0;36m<listcomp>\u001b[0;34m(.0)\u001b[0m\n\u001b[1;32m    537\u001b[0m             \u001b[0;32mreturn\u001b[0m \u001b[0mlist\u001b[0m\u001b[0;34m(\u001b[0m\u001b[0mresult\u001b[0m\u001b[0;34m)\u001b[0m\u001b[0;34m\u001b[0m\u001b[0;34m\u001b[0m\u001b[0m\n\u001b[1;32m    538\u001b[0m         \u001b[0;32melse\u001b[0m\u001b[0;34m:\u001b[0m\u001b[0;34m\u001b[0m\u001b[0;34m\u001b[0m\u001b[0m\n\u001b[0;32m--> 539\u001b[0;31m             \u001b[0;32mreturn\u001b[0m \u001b[0;34m[\u001b[0m\u001b[0ml\u001b[0m\u001b[0;34m[\u001b[0m\u001b[0;36m0\u001b[0m\u001b[0;34m]\u001b[0m \u001b[0;32mfor\u001b[0m \u001b[0ml\u001b[0m \u001b[0;32min\u001b[0m \u001b[0mresult\u001b[0m\u001b[0;34m]\u001b[0m\u001b[0;34m\u001b[0m\u001b[0;34m\u001b[0m\u001b[0m\n\u001b[0m\u001b[1;32m    540\u001b[0m \u001b[0;34m\u001b[0m\u001b[0m\n\u001b[1;32m    541\u001b[0m \u001b[0;34m\u001b[0m\u001b[0m\n",
      "\u001b[0;32m/opt/anaconda3/lib/python3.7/site-packages/matplotlib/axes/_base.py\u001b[0m in \u001b[0;36m<genexpr>\u001b[0;34m(.0)\u001b[0m\n\u001b[1;32m    532\u001b[0m         result = (make_artist(x[:, j % ncx], y[:, j % ncy], kw,\n\u001b[1;32m    533\u001b[0m                               {**kwargs, 'label': label})\n\u001b[0;32m--> 534\u001b[0;31m                   for j, label in enumerate(labels))\n\u001b[0m\u001b[1;32m    535\u001b[0m \u001b[0;34m\u001b[0m\u001b[0m\n\u001b[1;32m    536\u001b[0m         \u001b[0;32mif\u001b[0m \u001b[0mreturn_kwargs\u001b[0m\u001b[0;34m:\u001b[0m\u001b[0;34m\u001b[0m\u001b[0;34m\u001b[0m\u001b[0m\n",
      "\u001b[0;31mZeroDivisionError\u001b[0m: integer division or modulo by zero"
     ]
    },
    {
     "data": {
      "image/png": "[encoded data removed]",
      "text/plain": [
       "<Figure size 432x288 with 1 Axes>"
      ]
     },
     "metadata": {
      "needs_background": "light"
     },
     "output_type": "display_data"
    }
   ],
   "source": [
    "resdf = pd.concat(res.values())\n",
    "\n",
    "resdf.reset_index(inplace=True)\n",
    "\n",
    "print(resdf.groupby([\"data\", \"index\"])[\"random_1\", \"unc_1\", \"type_s_1\", \"emcm_1\"].mean().loc[0].to_latex())\n",
    "\n",
    "plt.plot(resdf.groupby([\"index\"])[\"random_1\", \"unc_1\", \"type_s_1\", \"emcm_1\"].mean())"
   ]
  },
  {
   "cell_type": "code",
   "execution_count": null,
   "id": "3774dd9e",
   "metadata": {},
   "outputs": [],
   "source": [
    "res"
   ]
  },
  {
   "cell_type": "code",
   "execution_count": null,
   "id": "e3253b94",
   "metadata": {},
   "outputs": [],
   "source": []
  }
 ],
 "metadata": {
  "kernelspec": {
   "display_name": "Python 3",
   "language": "python",
   "name": "python3"
  }
 },
 "nbformat": 4,
 "nbformat_minor": 5
}
